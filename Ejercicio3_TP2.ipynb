{
 "cells": [
  {
   "cell_type": "markdown",
   "metadata": {},
   "source": [
    "## Ejercicio 3\n",
    "\n",
    "### método asignado en la planilla de grupos: MONTECARLO"
   ]
  },
  {
   "cell_type": "markdown",
   "metadata": {},
   "source": [
    "Se está diseñando un web service, el cual cada vez que es invocado consulta a una base de datos. Se estima que el tiempo que transcurre entre cada llamada al servicio se puede modelar según una distribución exponencial con media =4 segundos\n",
    "\n",
    "Se debe decidir la arquitectura de base de datos a utilizar entre las dos siguientes:\n",
    "1. Utilizar 2 bases de datos distribuidas.\n",
    "Con probabilidad p=0.6 las solicitudes son atendidas por la base 1 y con probabilidad q=1-p son atendidos por la base de datos 2.\n",
    "El tiempo que demora cada base de datos en atender una solicitud sigue una distribución exponencial con medias, 1=0,7 seg y 2=1 seg respectivamente.\n",
    "2. Utilizar 1 base de datos central.\n",
    "En este caso la demora en resolver una solicitud sigue una distribución exponencial con =0,8 segundos. \n",
    "\n",
    "Se suponen despreciables cualquier otro tiempo en el sistema.\n",
    "Simular para cada opción 100000 solicitudes procesadas, determinando:\n",
    "- El tiempo medio de espera entre que la solicitud llega y puede ser procesada (suponer que ninguna conexión cae\n",
    "por timeout).\n",
    "- La fracción de las solicitudes que no esperaron para ser procesadas.\n",
    "- La opción 1 es más costosa que la segunda opción y la empresa sólo acepta realizar la inversión si el tiempo medio que demora en resolver cada solicitud (tiempo en fila + tiempo de procesamiento) es como mínimo 50% menor\n",
    "que la opción 2. ¿Qué solución le recomienda?\n",
    "\n",
    "Proponer otras frecuencias de arribos de solicitudes y comprar los resultados obtenidos."
   ]
  },
  {
   "cell_type": "markdown",
   "metadata": {},
   "source": [
    "### Imports"
   ]
  },
  {
   "cell_type": "code",
   "execution_count": 55,
   "metadata": {},
   "outputs": [],
   "source": [
    "from MixMax import MixmaxRNG\n",
    "import numpy as np\n",
    "from collections import deque"
   ]
  },
  {
   "cell_type": "markdown",
   "metadata": {},
   "source": [
    "### Constantes"
   ]
  },
  {
   "cell_type": "code",
   "execution_count": 56,
   "metadata": {},
   "outputs": [],
   "source": [
    "# tiempo entre llamadas al servicio\n",
    "MEAN_ARRIVAL_CALL = 4 \n",
    "\n",
    "# BASE DE DATOS 1\n",
    "MEAN_PROCESSING_TIME_DB1 = 0.7  # Tiempo medio de procesamiento en la base de datos 1\n",
    "MEAN_PROCESING_TIME_DB2 = 1.0  # Tiempo medio de procesamiento en la base de datos 2\n",
    "PROBABILITY_DB1 = 0.6 # Probabilidad de ser atendido por la base de datos 1 (en la opcion donde hay dos bases de datos distribuidas)\n",
    "\n",
    "# BASE DE DATOS 2\n",
    "# Demora en resolver una solicitud -> distribución exponencial con =0,8 segundos\n",
    "MEAN_PROCESSING_TIME_CENTRAL_DB = 0.8\n",
    "\n",
    "# semillas\n",
    "# semilla de arrivos de solicitudes\n",
    "SEED_ARRIVALS = 1235\n",
    "# semilla de tiempo de procesamiento de la base de datos\n",
    "SEED_PROCESING_TIME = 782\n",
    "# semilla para calculos de probabilidad\n",
    "SEED = 987654321\n",
    "\n",
    "TOTAL_REQUEST = 100000\n"
   ]
  },
  {
   "cell_type": "markdown",
   "metadata": {},
   "source": [
    "### Código"
   ]
  },
  {
   "cell_type": "code",
   "execution_count": 57,
   "metadata": {},
   "outputs": [],
   "source": [
    "class DistribuitedDataBase:\n",
    "    def __init__(self, mean_process_time_d1, mean_process_time_d2, seed, probability_d1):\n",
    "        self.mean_process_time_d1 = mean_process_time_d1\n",
    "        self.mean_process_time_d2 = mean_process_time_d2\n",
    "        self.probability_d1 = probability_d1\n",
    "        self.pending_calls_d1_queue = deque()\n",
    "        self.pending_calls_d2_queue = deque()\n",
    "        self.random = MixmaxRNG(seed)\n",
    "        # Current time va acumulando arrival + process time y como cada db se maneja con colas distintas\n",
    "        # mantengo tiemos distintos\n",
    "        self.current_time_d1 = 0\n",
    "        self.current_time_d2 = 0\n",
    "        self.arrival_times = [] \n",
    "        self.processing_times = [] \n",
    "        self.wait_times = []\n",
    "\n",
    "    def add_request(self, arrival_time, process_time):\n",
    "        self.arrival_times.append(arrival_time)\n",
    "        self.processing_times.append(process_time)\n",
    "       \n",
    "        if self.random.generate_number() < self.probability_d1:  \n",
    "            self.pending_calls_d1_queue.append((arrival_time, process_time))\n",
    "        else:  \n",
    "             self.pending_calls_d2_queue.append((arrival_time, process_time))    \n",
    "\n",
    "    def process_requests(self):\n",
    "        self.process_requests_d1()\n",
    "        self.process_requests_d2()\n",
    "\n",
    "    def process_requests_d1(self):\n",
    "        # Evaluo todas las requests generadas en la base 1\n",
    "        while self.pending_calls_d1_queue:\n",
    "            arrival_time, process_time = self.pending_calls_d1_queue.popleft()\n",
    "            \n",
    "            if self.current_time_d1 < arrival_time:\n",
    "                    self.wait_times.append(0)\n",
    "                    self.current_time_d1 = arrival_time\n",
    "            else:\n",
    "                self.wait_times.append(self.current_time_d1 - arrival_time)\n",
    "            \n",
    "            self.current_time_d1 += process_time\n",
    "    \n",
    "    def process_requests_d2(self):\n",
    "        # Evaluo todas las requests generadas en la base 2\n",
    "        while self.pending_calls_d2_queue:\n",
    "            arrival_time, process_time = self.pending_calls_d2_queue.popleft()\n",
    "            \n",
    "            if self.current_time_d2 < arrival_time:\n",
    "                    self.wait_times.append(0)\n",
    "                    self.current_time_d2 = arrival_time\n",
    "            else:\n",
    "                self.wait_times.append(self.current_time_d2 - arrival_time)\n",
    "            \n",
    "            self.current_time_d2 += process_time\n",
    "\n",
    "    def get_info(self):\n",
    "        return self.arrival_times, self.processing_times, self.wait_times"
   ]
  },
  {
   "cell_type": "code",
   "execution_count": 58,
   "metadata": {},
   "outputs": [],
   "source": [
    "class CentralDataBase:\n",
    "    def __init__(self, mean_process_time):\n",
    "        self.mean_process_time = mean_process_time\n",
    "        self.pending_calls_queue = deque()  # Cola FIFO\n",
    "        self.arrival_times = [] \n",
    "        self.processing_times = [] \n",
    "        self.wait_times = []\n",
    "        self.current_time = 0 # Tiene en cuenta los tiempos de llegada + procesamiento\n",
    "\n",
    "    def add_request(self, arrival_time, process_time):\n",
    "        self.arrival_times.append(arrival_time)\n",
    "        self.processing_times.append(process_time)\n",
    "        self.pending_calls_queue.append((arrival_time, process_time))\n",
    "\n",
    "    def process_requests(self):\n",
    "        # Evaluo todas las requests generadas\n",
    "        while self.pending_calls_queue:\n",
    "            # Me quedo con la siguiente en fila\n",
    "            arrival_time, process_time = self.pending_calls_queue.popleft()\n",
    "            # Si la siguiente a procesar llega en un tiempo mayor al actual, se procesa\n",
    "            # (current time se calcula como el arrival + procces time, entonces llegar luego del actual\n",
    "            #  significa que ya dejo de procesar)\n",
    "            if self.current_time < arrival_time:\n",
    "                    self.wait_times.append(0)\n",
    "                    self.current_time = arrival_time\n",
    "            # Llega antes del tiempo actual, espera\n",
    "            else:\n",
    "                self.wait_times.append(self.current_time - arrival_time)\n",
    "            \n",
    "            self.current_time += process_time\n",
    "\n",
    "    def get_info(self):\n",
    "        return self.arrival_times, self.processing_times, self.wait_times\n"
   ]
  },
  {
   "cell_type": "code",
   "execution_count": 59,
   "metadata": {},
   "outputs": [],
   "source": [
    "class WebService:\n",
    "    def __init__(self, seed, seed_arrivals, seed_process, TOTAL_REQUEST, mean_time_between_calls, mean_process_times_list, centralDB = True, probability_d1 = 0):\n",
    "        self.total_requests = TOTAL_REQUEST\n",
    "        self.mean_time_between_calls = mean_time_between_calls\n",
    "        self.mean_process_time_d1 = mean_process_times_list[0]\n",
    "        self.random = MixmaxRNG(seed)\n",
    "        self.cetral_data_base = centralDB\n",
    "        self.probability_d1 = probability_d1\n",
    "        self.random_arrival = MixmaxRNG(seed_arrivals)\n",
    "        self.random_processing = MixmaxRNG(seed_process)\n",
    "\n",
    "        if self.cetral_data_base:\n",
    "            self.dataBase = CentralDataBase(self.mean_process_time_d1)\n",
    "        else:\n",
    "            self.mean_process_time_d2 = mean_process_times_list[1]\n",
    "            self.dataBase = DistribuitedDataBase(self.mean_process_time_d1, self.mean_process_time_d2, seed, self.probability_d1)\n",
    "\n",
    "    def exponential_time(self, random_num, mean):\n",
    "         return -(mean * np.log(1 - random_num))\n",
    "\n",
    "    # Generar llamadas, cada base de datos se encarga de procesarlas\n",
    "    def generate_and_process_requests(self):\n",
    "        arrival_time = 0\n",
    "\n",
    "        for _ in range(self.total_requests):\n",
    "            # Genero todas las requests, van llegando en orden ya se van sumando los tiempos   \n",
    "            arrival_time += self.exponential_time(self.random_arrival.generate_number(), self.mean_time_between_calls)            \n",
    "            process_time = self.exponential_time(self.random_processing.generate_number(), self.mean_process_time_d1)\n",
    "            self.dataBase.add_request(arrival_time, process_time)\n",
    "\n",
    "        self.dataBase.process_requests()\n",
    "\n",
    "    # habia pensado dos func distintas para cada opcionde base de datos pero creo q se\n",
    "    # puede generalizar en esta\n",
    "    def generate_and_process_requests_ddb(self):\n",
    "        arrival_time = 0\n",
    "\n",
    "        for _ in range(self.total_requests):\n",
    "            # Genero todas las requests, van llegando en orden ya se van sumando los tiempos\n",
    "            time_since_last_arrival = self.exponential_time(self.random_arrival.generate_number(), self.mean_time_between_calls)\n",
    "            arrival_time += time_since_last_arrival\n",
    "            # si estoy con DDB y la proba < 0.6 o si estoy en CDB y solo existe d1\n",
    "            if self.random.generate_number() < self.probability_d1 or self.cetral_data_base:\n",
    "                process_time = self.exponential_time(self.random_processing.generate_number(), self.mean_process_time_d1)\n",
    "            else:\n",
    "                process_time = self.exponential_time(self.random_processing.generate_number(), self.mean_process_time_d2)\n",
    "            # print(\"Time since last arrival: \" + str(time_since_last_arrival) + \", time to process: \" + str(process_time))\n",
    "            self.dataBase.add_request(arrival_time, process_time)\n",
    "\n",
    "        self.dataBase.process_requests()\n",
    "        \n",
    "    def get_info_db(self):\n",
    "        return self.dataBase.get_info()\n",
    "    \n",
    "    def get_total_requests(self):\n",
    "        return self.total_requests"
   ]
  },
  {
   "cell_type": "markdown",
   "metadata": {},
   "source": [
    "### Simulación caso 2 bases de datos distribuidas"
   ]
  },
  {
   "cell_type": "markdown",
   "metadata": {},
   "source": [
    "todavia no mirar esto :)"
   ]
  },
  {
   "cell_type": "code",
   "execution_count": 60,
   "metadata": {},
   "outputs": [],
   "source": [
    "def print_webservice_data(webService: WebService, header):\n",
    "    arrival_times_ddb, processing_times_ddb, wait_times_ddb = webService.get_info_db()\n",
    "    total_requests = webService.get_total_requests()\n",
    "\n",
    "    # tiempo medio de espera\n",
    "    mean_waiting_time_ddb = sum(wait_times_ddb) / total_requests\n",
    "    # fracción de solicitudes que no esperaron para ser procesadas\n",
    "    num_no_waiting_ddb = sum(1 for wait_time in wait_times_ddb if wait_time == 0)\n",
    "    fraction_no_waiting_ddb = num_no_waiting_ddb / total_requests\n",
    "    # tiempo medio de resolucion\n",
    "    total_resolving_time_ddb = sum(processing_times_ddb) + sum(wait_times_ddb)\n",
    "    mean_total_resolving_time_ddb =  total_resolving_time_ddb / total_requests\n",
    "\n",
    "\n",
    "    print(header)\n",
    "    print(f\"el tiempo medio de espera es {mean_waiting_time_ddb}\")\n",
    "    print(f\"la fraccion de los que no esperan es {fraction_no_waiting_ddb}\")\n",
    "    print(f\"el tiempo medio del total de resolucion es {mean_total_resolving_time_ddb}\")"
   ]
  },
  {
   "cell_type": "code",
   "execution_count": 61,
   "metadata": {},
   "outputs": [
    {
     "name": "stdout",
     "output_type": "stream",
     "text": [
      "BASE DE DATOS DISTRIBUIDA\n",
      "el tiempo medio de espera es 0.09069567095461877\n",
      "la fraccion de los que no esperan es 0.89768\n",
      "el tiempo medio del total de resolucion es 0.9097587416233561\n"
     ]
    }
   ],
   "source": [
    "# DATOS BASE DE DATOS DISTRIBUIDA\n",
    "mean_process_times = [MEAN_PROCESSING_TIME_DB1, MEAN_PROCESING_TIME_DB2]\n",
    "webServiceDistribuited = WebService(SEED, SEED_ARRIVALS, SEED_PROCESING_TIME, TOTAL_REQUEST, MEAN_ARRIVAL_CALL, mean_process_times, centralDB=False, probability_d1=PROBABILITY_DB1)\n",
    "webServiceDistribuited.generate_and_process_requests_ddb()\n",
    "\n",
    "print_webservice_data(webServiceDistribuited, \"BASE DE DATOS DISTRIBUIDA\")"
   ]
  },
  {
   "cell_type": "code",
   "execution_count": 62,
   "metadata": {},
   "outputs": [
    {
     "name": "stdout",
     "output_type": "stream",
     "text": [
      "BASE DE DATOS CENTRAL\n",
      "el tiempo medio de espera es 0.1976976143254088\n",
      "la fraccion de los que no esperan es 0.80017\n",
      "el tiempo medio del total de resolucion es 0.9954602018094317\n"
     ]
    }
   ],
   "source": [
    "# DATOS BASE DE DATOS CENTRAL\n",
    "webServiceCentral = WebService(SEED, SEED_ARRIVALS, SEED_PROCESING_TIME, TOTAL_REQUEST,  MEAN_ARRIVAL_CALL, [MEAN_PROCESSING_TIME_CENTRAL_DB], centralDB=True, probability_d1=0)\n",
    "webServiceCentral.generate_and_process_requests()\n",
    "arrival_times_cdb, processing_times_cdb, wait_times_cdb = webServiceCentral.get_info_db()\n",
    "\n",
    "print_webservice_data(webServiceCentral, \"BASE DE DATOS CENTRAL\")"
   ]
  },
  {
   "cell_type": "markdown",
   "metadata": {},
   "source": [
    "# Casos con otras frecuencias"
   ]
  },
  {
   "cell_type": "markdown",
   "metadata": {},
   "source": [
    "### Caso con más frecuencia de arribos"
   ]
  },
  {
   "cell_type": "code",
   "execution_count": 63,
   "metadata": {},
   "outputs": [],
   "source": [
    "FASTER_ARRIVAL_CALL = 1"
   ]
  },
  {
   "cell_type": "code",
   "execution_count": 64,
   "metadata": {},
   "outputs": [
    {
     "name": "stdout",
     "output_type": "stream",
     "text": [
      "BASE DE DATOS DISTRIBUIDA\n",
      "el tiempo medio de espera es 0.5681694042987446\n",
      "la fraccion de los que no esperan es 0.58705\n",
      "el tiempo medio del total de resolucion es 1.387232474967482\n"
     ]
    }
   ],
   "source": [
    "# DATOS BASE DE DATOS DISTRIBUIDA\n",
    "mean_process_times = [MEAN_PROCESSING_TIME_DB1, MEAN_PROCESING_TIME_DB2]\n",
    "webServiceDistribuited = WebService(SEED, SEED_ARRIVALS, SEED_PROCESING_TIME, TOTAL_REQUEST, FASTER_ARRIVAL_CALL, mean_process_times, centralDB=False, probability_d1=PROBABILITY_DB1)\n",
    "webServiceDistribuited.generate_and_process_requests_ddb()\n",
    "\n",
    "print_webservice_data(webServiceDistribuited, \"BASE DE DATOS DISTRIBUIDA\")"
   ]
  },
  {
   "cell_type": "code",
   "execution_count": 65,
   "metadata": {},
   "outputs": [
    {
     "name": "stdout",
     "output_type": "stream",
     "text": [
      "BASE DE DATOS CENTRAL\n",
      "el tiempo medio de espera es 3.182004178886766\n",
      "la fraccion de los que no esperan es 0.20013\n",
      "el tiempo medio del total de resolucion es 3.9797667663707887\n"
     ]
    }
   ],
   "source": [
    "# DATOS BASE DE DATOS CENTRAL\n",
    "webServiceCentral = WebService(SEED, SEED_ARRIVALS, SEED_PROCESING_TIME, TOTAL_REQUEST,  FASTER_ARRIVAL_CALL, [MEAN_PROCESSING_TIME_CENTRAL_DB], centralDB=True, probability_d1=0)\n",
    "webServiceCentral.generate_and_process_requests()\n",
    "\n",
    "print_webservice_data(webServiceCentral, \"BASE DE DATOS CENTRAL\")"
   ]
  },
  {
   "cell_type": "markdown",
   "metadata": {},
   "source": [
    "### Base de datos con menos balance de cargas"
   ]
  },
  {
   "cell_type": "code",
   "execution_count": 66,
   "metadata": {},
   "outputs": [],
   "source": [
    "HIGHER_PROBABILITY_DB1 = 0.95"
   ]
  },
  {
   "cell_type": "code",
   "execution_count": 67,
   "metadata": {},
   "outputs": [
    {
     "name": "stdout",
     "output_type": "stream",
     "text": [
      "BASE DE DATOS DISTRIBUIDA\n",
      "el tiempo medio de espera es 0.1762837879881025\n",
      "la fraccion de los que no esperan es 0.81906\n",
      "el tiempo medio del total de resolucion es 0.9843864893535141\n"
     ]
    }
   ],
   "source": [
    "# DATOS BASE DE DATOS DISTRIBUIDA\n",
    "mean_process_times = [MEAN_PROCESSING_TIME_CENTRAL_DB, MEAN_PROCESING_TIME_DB2]\n",
    "webServiceDistribuited = WebService(SEED, SEED_ARRIVALS, SEED_PROCESING_TIME, TOTAL_REQUEST, MEAN_ARRIVAL_CALL, mean_process_times, centralDB=False, probability_d1=HIGHER_PROBABILITY_DB1)\n",
    "webServiceDistribuited.generate_and_process_requests_ddb()\n",
    "\n",
    "print_webservice_data(webServiceDistribuited, \"BASE DE DATOS DISTRIBUIDA\")"
   ]
  },
  {
   "cell_type": "code",
   "execution_count": 68,
   "metadata": {},
   "outputs": [
    {
     "name": "stdout",
     "output_type": "stream",
     "text": [
      "BASE DE DATOS DISTRIBUIDA\n",
      "el tiempo medio de espera es 2.3948621768589686\n",
      "la fraccion de los que no esperan es 0.27682\n",
      "el tiempo medio del total de resolucion es 3.20296487822438\n"
     ]
    }
   ],
   "source": [
    "# DATOS BASE DE DATOS DISTRIBUIDA\n",
    "mean_process_times = [MEAN_PROCESSING_TIME_CENTRAL_DB, MEAN_PROCESING_TIME_DB2]\n",
    "webServiceDistribuited = WebService(SEED, SEED_ARRIVALS, SEED_PROCESING_TIME, TOTAL_REQUEST, FASTER_ARRIVAL_CALL, mean_process_times, centralDB=False, probability_d1=HIGHER_PROBABILITY_DB1)\n",
    "webServiceDistribuited.generate_and_process_requests_ddb()\n",
    "\n",
    "print_webservice_data(webServiceDistribuited, \"BASE DE DATOS DISTRIBUIDA\")"
   ]
  },
  {
   "cell_type": "markdown",
   "metadata": {},
   "source": [
    "### Tiempo de procesamiento en distribuida el doble de la centralizada"
   ]
  },
  {
   "cell_type": "code",
   "execution_count": 69,
   "metadata": {},
   "outputs": [],
   "source": [
    "DOUBLE_MEAN_PROCESSING_TIME = MEAN_PROCESSING_TIME_CENTRAL_DB * 2\n",
    "EQUAL_DISTRIBUTION = 0.5"
   ]
  },
  {
   "cell_type": "code",
   "execution_count": 70,
   "metadata": {},
   "outputs": [
    {
     "name": "stdout",
     "output_type": "stream",
     "text": [
      "BASE DE DATOS DISTRIBUIDA\n",
      "el tiempo medio de espera es 0.3982191525624148\n",
      "la fraccion de los que no esperan es 0.79912\n",
      "el tiempo medio del total de resolucion es 1.9937443275304607\n"
     ]
    }
   ],
   "source": [
    "# DATOS BASE DE DATOS DISTRIBUIDA\n",
    "mean_process_times = [DOUBLE_MEAN_PROCESSING_TIME, DOUBLE_MEAN_PROCESSING_TIME]\n",
    "webServiceDistribuited = WebService(SEED, SEED_ARRIVALS, SEED_PROCESING_TIME, TOTAL_REQUEST, MEAN_ARRIVAL_CALL, mean_process_times, centralDB=False, probability_d1=EQUAL_DISTRIBUTION)\n",
    "webServiceDistribuited.generate_and_process_requests_ddb()\n",
    "\n",
    "print_webservice_data(webServiceDistribuited, \"BASE DE DATOS DISTRIBUIDA\")"
   ]
  },
  {
   "cell_type": "code",
   "execution_count": 71,
   "metadata": {},
   "outputs": [
    {
     "name": "stdout",
     "output_type": "stream",
     "text": [
      "BASE DE DATOS DISTRIBUIDA\n",
      "el tiempo medio de espera es 6.290794935292484\n",
      "la fraccion de los que no esperan es 0.19973\n",
      "el tiempo medio del total de resolucion es 7.88632011026053\n"
     ]
    }
   ],
   "source": [
    "# DATOS BASE DE DATOS DISTRIBUIDA\n",
    "mean_process_times = [DOUBLE_MEAN_PROCESSING_TIME, DOUBLE_MEAN_PROCESSING_TIME]\n",
    "webServiceDistribuited = WebService(SEED, SEED_ARRIVALS, SEED_PROCESING_TIME, TOTAL_REQUEST, FASTER_ARRIVAL_CALL, mean_process_times, centralDB=False, probability_d1=EQUAL_DISTRIBUTION)\n",
    "webServiceDistribuited.generate_and_process_requests_ddb()\n",
    "\n",
    "print_webservice_data(webServiceDistribuited, \"BASE DE DATOS DISTRIBUIDA\")"
   ]
  }
 ],
 "metadata": {
  "kernelspec": {
   "display_name": "Python 3",
   "language": "python",
   "name": "python3"
  },
  "language_info": {
   "codemirror_mode": {
    "name": "ipython",
    "version": 3
   },
   "file_extension": ".py",
   "mimetype": "text/x-python",
   "name": "python",
   "nbconvert_exporter": "python",
   "pygments_lexer": "ipython3",
   "version": "3.10.8"
  }
 },
 "nbformat": 4,
 "nbformat_minor": 2
}
