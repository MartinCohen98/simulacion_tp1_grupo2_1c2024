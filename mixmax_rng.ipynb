{
 "cells": [
  {
   "cell_type": "markdown",
   "metadata": {
    "collapsed": false,
    "jupyter": {
     "outputs_hidden": false
    }
   },
   "source": [
    "# Primer TP de Simulacion"
   ]
  },
  {
   "cell_type": "markdown",
   "metadata": {
    "collapsed": false,
    "jupyter": {
     "outputs_hidden": false
    }
   },
   "source": [
    "## Grupo 2"
   ]
  },
  {
   "cell_type": "markdown",
   "metadata": {
    "collapsed": false,
    "jupyter": {
     "outputs_hidden": false
    }
   },
   "source": [
    "\n",
    "### Alumnos:\n",
    "\n",
    "- Duzac, Emilia\n",
    "- Belletti, Gabriel Ignacio\n",
    "- Vazquez, Nicolaz Alberto\n",
    "- Cohen, Martin"
   ]
  },
  {
   "cell_type": "markdown",
   "metadata": {
    "collapsed": false,
    "jupyter": {
     "outputs_hidden": false
    }
   },
   "source": [
    "### Generador de numeros aleatorio elegido\n",
    "\n",
    "MIXMAX"
   ]
  },
  {
   "cell_type": "markdown",
   "source": [
    "####"
   ],
   "metadata": {
    "collapsed": false
   }
  },
  {
   "cell_type": "code",
   "execution_count": null,
   "outputs": [],
   "source": [
    "from IPython.display import clear_output\n",
    "import time\n",
    "import numpy as np\n",
    "import matplotlib.pyplot as plt\n",
    "from collections import Counter"
   ],
   "metadata": {
    "collapsed": false
   }
  },
  {
   "cell_type": "markdown",
   "metadata": {
    "collapsed": false,
    "jupyter": {
     "outputs_hidden": false
    }
   },
   "source": [
    "## Ejercicio 1\n",
    "\n",
    "Implementar generador de numeros aleatorios.\n",
    "Sobre el generador de números al azar elegido, se pide:\n",
    "- Implementarlo en función de la especificación del mismo.\n",
    "- Modificarlo (si aplica) para obtener números al azar entre 0 y 1\n",
    "- Realizar los gráficos que se consideren adecuados para mostrar las distribuciones de números pseudoaleatorios generados en ambos casos (explicar que se busca interpretar con cada uno de los gráficos)"
   ]
  },
  {
   "cell_type": "markdown",
   "metadata": {},
   "source": [
    "## Generador MixMax\n",
    "\n",
    "El RNG MixMax como esta definido en el paper se basa en construir una matriz cuadrada MixMax (N, N) y un vector semilla del tamaño N. Los numeros aleatorios se generan a traves de iteraciones en donde se multiplica el vector semilla con la matriz MixMax para generar un nuevo vector pseudoaleatorio. En este vector generado todos los numeros son pseudoaleatorios."
   ]
  },
  {
   "cell_type": "code",
   "execution_count": 1,
   "metadata": {
    "pycharm": {
     "is_executing": true
    }
   },
   "outputs": [
    {
     "data": {
      "text/plain": [
       "<Figure size 1000x600 with 0 Axes>"
      ]
     },
     "execution_count": 1,
     "metadata": {},
     "output_type": "execute_result"
    },
    {
     "data": {
      "text/plain": [
       "<Figure size 1000x600 with 0 Axes>"
      ]
     },
     "metadata": {},
     "output_type": "display_data"
    }
   ],
   "source": [
    "plt.figure(figsize=(10,6))"
   ]
  },
  {
   "cell_type": "markdown",
   "metadata": {},
   "source": [
    "Definimos algunos parametros para reutilizar en el notebook"
   ]
  },
  {
   "cell_type": "code",
   "execution_count": 2,
   "metadata": {},
   "outputs": [],
   "source": [
    "# Parameters defined in paper\n",
    "MATRIX_SIZE = 139 # Matrix and vector size\n",
    "MAGIC_NUMBER = -1  # Magic number\n",
    "MAGIC_MODULUS = 9223372036853751941 # Modulus"
   ]
  },
  {
   "cell_type": "markdown",
   "metadata": {},
   "source": [
    "Generamos la matriz MixMax definida en el paper"
   ]
  },
  {
   "cell_type": "code",
   "execution_count": 3,
   "metadata": {
    "pycharm": {
     "is_executing": true
    }
   },
   "outputs": [
    {
     "name": "stdout",
     "output_type": "stream",
     "text": [
      "[[  1   1   1 ...   1   1   1]\n",
      " [  1   2   1 ...   1   1   1]\n",
      " [  1   2   2 ...   1   1   1]\n",
      " ...\n",
      " [  1 137 136 ...   2   1   1]\n",
      " [  1 138 137 ...   3   2   1]\n",
      " [  1 139 138 ...   4   3   2]]\n"
     ]
    }
   ],
   "source": [
    "def generate_mixmax_matrix(size, magic_number):\n",
    "    \n",
    "    # Initialize the MIXMAX matrix with ones\n",
    "    matrix = np.ones((size, size), dtype=int)\n",
    "    \n",
    "    # Fill the matrix with the specified pattern\n",
    "    for i in range(size):\n",
    "        for j in range(size):\n",
    "            if i == j and j > 0:\n",
    "                matrix[i][j] = 2\n",
    "            elif j < i and j > 0:\n",
    "                matrix[i][j] = (i + 1) - (j - 1)\n",
    "\n",
    "    matrix[2][1] += magic_number\n",
    "\n",
    "    return matrix\n",
    "\n",
    "mixmax_matrix = generate_mixmax_matrix(MATRIX_SIZE, MAGIC_NUMBER)\n",
    "\n",
    "print(mixmax_matrix)"
   ]
  },
  {
   "cell_type": "markdown",
   "metadata": {},
   "source": [
    "Generamos un vector pseudoaleatorio como semilla"
   ]
  },
  {
   "cell_type": "code",
   "execution_count": 4,
   "metadata": {
    "pycharm": {
     "is_executing": true
    }
   },
   "outputs": [
    {
     "name": "stdout",
     "output_type": "stream",
     "text": [
      "[0.9800433435344447, 0.6762309184326339, 0.46660003158132946, 0.32195450331717784, 0.2221489395423314, 0.15328299753945182, 0.10576542648857613, 0.07297825342586531, 0.050355070176595663, 0.03474505038772526, 0.023974120624037296, 0.016542167971612474, 0.011414112971746592, 0.007875749729743213, 0.005434275441209239, 0.0037496556625463934, 0.0025872662767600914, 0.0017852164009945818, 0.0012318011590097989, 0.0008499440709219034, 0.0005864622860689734, 0.00040465958261017026, 0.00027921552960522136, 0.0001926590035749344, 0.00013293491128866099, 9.17252259765311e-05, 6.329050058322302e-05, 4.3670510717519044e-05, 3.0132697462571237e-05, 2.0791592345784034e-05, 1.4346220175283925e-05, 9.898906726086216e-06, 6.830255856561613e-06, 4.712883589775955e-06, 3.2518945405891413e-06, 2.2438105889257357e-06, 1.5482316219465221e-06, 1.068281416901081e-06, 7.371152801164351e-07, 5.08610303975247e-07, 3.509416346232248e-07, 2.421500900580104e-07, 1.670838120363444e-07, 1.1528800273382801e-07, 7.954884086239064e-08, 5.4888782288679965e-08, 3.7873316423912494e-08, 2.6132627417450778e-08, 1.803153988673128e-08, 1.2441781130302296e-08, 8.584841819797218e-09, 5.9235497152300984e-09, 4.087255416654834e-09, 2.82021045560254e-09, 1.945948124900102e-09, 1.3427062144863854e-09, 9.264686737619561e-10, 6.392643411095716e-10, 4.4109305518773865e-10, 3.043546633911035e-10, 2.100050319389206e-10, 1.4490368886914056e-10, 9.998369496712791e-11, 6.89888528178034e-11, 4.760237974843596e-11, 3.284569125996927e-11, 2.2663560974188313e-11, 1.563788056915386e-11, 1.0790153839255789e-11, 7.44521739282587e-12, 5.13720779285189e-12, 3.544678787029519e-12, 2.445832129539802e-12, 1.6876268018743274e-12, 1.1644643433256559e-12, 8.034817070292144e-13, 5.544033154545906e-13, 3.8253896822196096e-13, 2.639523912693452e-13, 1.8212753079200742e-13, 1.2566829262029533e-13, 8.671136001650602e-14, 5.983103631676877e-14, 4.128358522375398e-14, 2.848582482880983e-14, 1.9655356949151504e-14, 1.3562324999242285e-14, 9.358126665863493e-15, 6.457225477146047e-15, 4.455600663233137e-15, 3.0744774759786087e-15, 2.1215010514691644e-15, 1.4639463350965411e-15, 1.0102329022102525e-15, 6.971701652914798e-16, 4.811565537402524e-16, 3.3210693884625276e-16, 2.2926255075184256e-16, 1.58299816832431e-16, 1.0933545719528223e-16, 7.554999851497318e-17, 5.223799715934108e-17, 3.6152692166227936e-17, 2.5053815121123415e-17, 1.7395578506083214e-17, 1.2111387338490175e-17, 8.465289979624266e-18, 5.9494790392747306e-18, 4.2135668941445474e-18, 3.015785722562629e-18, 2.1893154780742133e-18, 1.6190501564690751e-18, 1.2255664960540392e-18, 9.540623642968884e-19, 7.667242331952e-19, 6.374607294041603e-19, 5.482687783898398e-19, 4.867262401448539e-19, 4.442618252445963e-19, 4.149613351406131e-19, 3.947439667310837e-19, 3.8079396166440834e-19, 3.7116844377215173e-19, 3.645268264930669e-19, 3.5994410371642294e-19, 3.567820202712195e-19, 3.5460017943079407e-19, 3.5309470699926494e-19, 3.52055929467879e-19, 3.513391718992158e-19, 3.5084460843715234e-19, 3.505033591379445e-19, 3.5026789676932563e-19, 3.50105427491984e-19, 3.4999332352295185e-19, 3.499159716686296e-19, 3.49862598809321e-19, 3.4982577148131787e-19, 3.498003605869903e-19]\n"
     ]
    }
   ],
   "source": [
    "def generate_initial_vector(seed, size, period):\n",
    "\n",
    "    # Pseudo random vector from seed\n",
    "    a = 6364136223846793005\n",
    "    c = 1\n",
    "\n",
    "    random_numbers = []\n",
    "    x = seed\n",
    "    for _ in range(size):\n",
    "        x = ((a * x + c) % period) / period\n",
    "        random_numbers.append(x)\n",
    "    return random_numbers\n",
    "\n",
    "initial_vector = generate_initial_vector(42, MATRIX_SIZE, MAGIC_MODULUS)\n",
    "\n",
    "print(initial_vector)"
   ]
  },
  {
   "cell_type": "markdown",
   "metadata": {},
   "source": [
    "Definimos la clase que vamos a usar como generador."
   ]
  },
  {
   "cell_type": "code",
   "execution_count": 5,
   "metadata": {},
   "outputs": [],
   "source": [
    "class MixmaxRNG:\n",
    "\n",
    "    def __init__(self, seed, size, magic_number, period):\n",
    "        # crea la matriz\n",
    "        self.matrix = generate_mixmax_matrix(size, magic_number)\n",
    "        # crea el vector inicial (no se retornaran sus valores)\n",
    "        self.vector = generate_initial_vector(seed, size, period)\n",
    "        # self.size = size\n",
    "\n",
    "    \"\"\"generates a uniform pseudo random value between 0 and 1,\n",
    "    you can add an interval (a, b) to return a value between a and b\"\"\"\n",
    "    def generate_number(self, interval=(0,1)):\n",
    "        # valor pseudo aleatorio\n",
    "        result = self._generate_new_vector()[0]\n",
    "        return self._to_interval(result, interval)\n",
    "\n",
    "    \"\"\"calculates a new vector of numbers and replaces the current one with the new one with mod 1\"\"\"\n",
    "    def _generate_new_vector(self):\n",
    "        # calculo el nuevo vector\n",
    "        new_vector = np.matmul(self.matrix, self.vector)\n",
    "        # actualizo el vector con mod 1\n",
    "        self.vector = [i % 1 for i in new_vector]\n",
    "        return self.vector\n",
    "\n",
    "    def _to_interval(self, number, interval):\n",
    "        # encuentro la escala para multiplicar el valor\n",
    "        scale = interval[1] - interval[0]\n",
    "        # retorno el valor por la escala trasladando el 0 al minimo del intervalo\n",
    "        return (number * scale) + interval[0]\n",
    "        \n",
    "rng = MixmaxRNG(27, MATRIX_SIZE, MAGIC_NUMBER, MAGIC_MODULUS)"
   ]
  },
  {
   "cell_type": "markdown",
   "metadata": {},
   "source": [
    "Tomo una muestra de 10000 * 10000 para generar un scatterplot y hacer un test espectral."
   ]
  },
  {
   "cell_type": "code",
   "execution_count": 46,
   "metadata": {
    "pycharm": {
     "is_executing": true
    }
   },
   "outputs": [
    {
     "data": {
      "image/png": "[encoded data removed]",
      "text/plain": [
       "<Figure size 432x288 with 1 Axes>"
      ]
     },
     "metadata": {
      "needs_background": "light"
     },
     "output_type": "display_data"
    }
   ],
   "source": [
    "x = []\n",
    "y = []\n",
    "\n",
    "for i in range(10000):\n",
    "    x.append(rng.generate_number())\n",
    "    y.append(rng.generate_number())\n",
    "\n",
    "plt.scatter(x, y)\n",
    "\n",
    "plt.show()"
   ]
  },
  {
   "cell_type": "markdown",
   "metadata": {},
   "source": [
    "Hago un histgrama con los numeros generados"
   ]
  },
  {
   "cell_type": "code",
   "execution_count": 47,
   "metadata": {},
   "outputs": [
    {
     "data": {
      "image/png": "[encoded data removed]",
      "text/plain": [
       "<Figure size 432x288 with 1 Axes>"
      ]
     },
     "metadata": {
      "needs_background": "light"
     },
     "output_type": "display_data"
    }
   ],
   "source": [
    "plt.hist(x)\n",
    "\n",
    "plt.show()"
   ]
  },
  {
   "cell_type": "markdown",
   "metadata": {
    "collapsed": false,
    "jupyter": {
     "outputs_hidden": false
    }
   },
   "source": [
    "## Ejercicio 2\n",
    "\n",
    "En este ejercicio se busca aplicar distintos test estadísticos vistos en la materia para evaluar tanto el\n",
    "comportamiento del generador de números pseudoaleatorios elegido como el comportamiento de otro generador\n",
    "implementado por otro grupo. El grupo al cual le deben evaluar el generador se encuentra en la planilla de grupos\n",
    "en Drive.\n",
    "Para esta tarea se debe solicitar al equipo asignado uno o más lotes de números generados de los tamaños que se\n",
    "necesiten. El equipo que haya generado los números debe incluir en la notebook entregada el código utilizado\n",
    "para generar los mismos.\n",
    "\n",
    "\n",
    "a) Sobre los generadores implementados en el ejercicio 1:\n",
    "- Proponer, y realizar, al menos 3 tests para evaluar su comportamiento.\n",
    "- Evaluar e interpretar los resultados de cada test para distintos tamaños de muestras.\n",
    "\n",
    "\n",
    "b) Sobre el generador implementado por el grupo asignado:\n",
    "- Proponer, y realizar, al menos 3 tests para evaluar su comportamiento.\n",
    "- Evaluar e interpretar los resultados de cada test para distintos tamaños de muestras.\n",
    "- Comparar los resultados obtenidos para este generados con los obtenidos en el punto a)"
   ]
  },
  {
   "cell_type": "markdown",
   "metadata": {
    "collapsed": false,
    "jupyter": {
     "outputs_hidden": false
    }
   },
   "source": [
    "## Ejercicio 3\n",
    "\n",
    "Un uso posible de los satélites es la captura de imágenes, como se expone en\n",
    "el trabajo:\n",
    "Chen, W., Mackin, S., & Palmer, P. (2006). Performance Modelling of Imaging\n",
    "Service of Earth Observation Satellites with Two-dimensional Markov Chain.\n",
    "57th International Astronautical Congress. 10.2514/6.IAC-06-B5.3.05\n",
    "Utilizando el generador del ejercicio 1, y los datasets provistos junto a este\n",
    "enunciado, se pide:\n",
    "- Reproducir la generación de localizaciones de imágenes al azar,\n",
    "mostrada en la figura 5: “Distribution of targets over the globe” de la\n",
    "sección 4. Resultados. En este caso las imágenes se generan de forma\n",
    "uniformemente distribuida dentro de los parámetros de latitud y\n",
    "longitud [−60◦,60◦] [−150◦, 150◦] , respectivamente.\n",
    "- Modificar el método para sólo generar localizaciones de imágenes\n",
    "dentro del continente australiano (figuras 22 y 23 del dataset). De aplicar, en función del método elegido,\n",
    "calcular el factor de rendimiento de forma empírica."
   ]
  },
  {
   "cell_type": "markdown",
   "metadata": {
    "collapsed": false,
    "jupyter": {
     "outputs_hidden": false
    }
   },
   "source": [
    "## Ejercicio 4\n",
    "\n",
    "Utilizando el generador de números pseudoaleatorios implementado en el ejercicio 1, y el trabajo\n",
    "Li, Xiaomeng & li, Xingang & Wang, Jiangfeng. (2012). Using Cellular Automata to Investigate Pedestrian Conflicts\n",
    "with Vehicles in Crosswalk at Signalized Intersection. Discrete Dynamics in Nature and Society. 2012.\n",
    "10.1155/2012/287502.\n",
    "Resolver:\n",
    "- Simular al menos 2 escenarios planteados en el trabajo y comparar sus resultados.\n",
    "- Proponer al menos 2 modificaciones a los escenarios planteados para peatones, autos, semáforos y\n",
    "arterias de circulación, simularlas y comparar sus resultados.\n",
    "- Realizar los gráficos que se consideren necesarios para mostrar los resultados\n",
    "- Seleccionar un escenario de los simulados y realizar una animación utilizando los datos simulados"
   ]
  },
  {
   "cell_type": "markdown",
   "metadata": {
    "collapsed": false,
    "jupyter": {
     "outputs_hidden": false
    }
   },
   "source": [
    "### Descripcion del escenario planteado:\n",
    "\n",
    "Se utiliza un modelo de autómata celular para simular el tráfico.\n",
    "\n",
    "Idealización del sistema físico en el que se supone que tanto el espacio como el tiempo son discretos y cada una de las unidades que\n",
    "interactúan puede tener solo un número finito de estados discretos.\n",
    "En los autómatas celulares el espacio se divide en muchas unidades, mediante métodos in-erráticos, cuadrícula con ciertas formas.\n",
    "Cada unidad en la cuadrícula in-errática se llama celda, que solo puede tomar su valor en el conjunto de estados discretos limitados.\n",
    "Todas las células siguen las mismas reglas de funcionamiento y dinámica discreta en la naturaleza y la sociedad.\n",
    "\n",
    "Actualizar según las reglas parciales fijadas.\n",
    "Un gran número de células constituyen la evolución del sistema dinámico mediante la simple interacción.\n",
    "Los componentes más básicos de los autómatas celulares incluyen cuatro partes: celdas, espacio de celda, vecinos y reglas.\n",
    "Además, también se debe incluir el estado de las celdas.\n",
    "\n",
    "El modelo de autómata celular en el artículo se desarrolla para simular un cruce de peatones en una intersección señalizada con un\n",
    "ciclo de tiempo de señal peatonal fijo de $90 s$.\n",
    "La fase de la señal para peatones está diseñada en seis clases,\n",
    "que tienen una duración de tiempo verde de $25 s$, $30 s$, $35 s$, $40 s$, $45 s$ y $50 s$, correspondientes a\n",
    "$65 s$, $60 s$, $55 s$, $50 s$, $45 s$ y $40 s$ de duración del tiempo rojo, respectivamente.\n",
    "El segmento de la carretera que conecta con la intersección está diseñado como carriles de dos vías para seis vehículos y\n",
    "el ancho de cada carril es de 3,5 metros.\n",
    "El ancho del paso de peatones también está diseñado en 6 clases, que son $2,5 m$, $3 m$, $3,5 m$, $4 m$, $4,5 m$ y $5 m$ con una longitud de cruce de $21 m$.\n",
    "Además, se han establecido dos áreas de espera para peatones a ambos lados del paso de peatones con capacidad para 100 peatones como máximo cada vez.\n",
    "En este modelo, el paso de peatones se divide en celdas cuadradas de $0,5 × 0,5 m^2$.\n",
    "Cada celda está ocupada por un peatón o vacía. Las velocidades iniciales asignadas al peatón pueden ser 2, 3, 4, 5 o 6 celdas por segundo,\n",
    "lo que representa que sus velocidades reales son $1 m/s$, $1,5 m/s$, $2 m/s$, $2,5 m/s$, y $3 m/s$, respectivamente.\n",
    "Las proporciones de los cinco tipos de velocidades se basan en los resultados de la observación de campo,\n",
    "que comparten 27,3%, 52%, 13,7%, 4,8% y 2,2% respectivamente. A través de la comparación de la velocidad asignada y\n",
    "el número de celdas vacías frontales verticales, cada peatón actualiza su velocidad en cada paso de tiempo.\n",
    "Se supone que cada vehículo ocupa 6 × 5 celdas y su velocidad en el cruce de peatones es de $5 m/s$.\n",
    "\n",
    "Generalmente, existen dos tipos de condiciones de contorno en los modelos de simulación de autómatas celulares:\n",
    "la condición de contorno periódica y la condición de contorno abierto.\n",
    "Por razones tanto prácticas como teóricas, las dos condiciones de contorno son preferibles en diferentes situaciones.\n",
    "\n",
    "- En la condición de frontera periódica, los límites relativos están vinculados y se genera un estado estacionario invariante de traducción en el sistema.\n",
    "- Por otro lado, la condición de límite abierto concuerda con una cierta probabilidad cuando se inserta y retira un vehículo de la celda límite,\n",
    "en la que la invariancia traslacional se rompe, pero aún se pueden esperar estados estacionarios con un perfil de densidad no trivial.\n",
    "\n",
    "En comparación con la condición de frontera periódica, la condición de frontera abierta es más realista y coherente para el modelo del artículo.\n",
    "Por tanto, se adopta la condición de frontera abierta."
   ]
  },
  {
   "cell_type": "markdown",
   "metadata": {
    "collapsed": false,
    "jupyter": {
     "outputs_hidden": false
    }
   },
   "source": [
    "### Reglas del escenario planteado:\n",
    "\n",
    "#### Celdas:\n",
    "\n",
    "Cada celda mide $0.5$ metros cuadrados ($0.5m × 0.5m$).\n",
    "\n",
    "- Segmento de carretera: cuenta con dos carriles, para 6 vehiculos.\n",
    "  - Carriles: ancho $3,5$ metros (7 celdas).\n",
    "  - $4$ áreas de posibles coliciones.\n",
    "- Paso de peatones:\n",
    "  - Ancho: posibles valores $2,5 m$, $3 m$, $3,5 m$, $4 m$, $4,5 m$ y $5 m$.\n",
    "  - Largo: longitud de cruce de $21 m$, que corresponde a los 6 carriles de carretera ($3.5 × 6 = 21$).\n",
    "  - Pueden haber hasta 100 peatones esperando en el cruce.\n",
    "- Cada celda solo puede estar ocupada por una entiidad a la vez.\n",
    "  - Un peaton solo ocupa $1$ celda.\n",
    "  - Un vehiculo ocupa $6 × 5$ celdas y su velocidad en el cruce de peatones es de $5 m/s$\n",
    "\n",
    "#### Señales:\n",
    "\n",
    "Total de periodo de semaforo $90 s$ (solo verde o rojo).\n",
    "Fase de la señal para peatones (en segundos):\n",
    "\n",
    "| Verde | Rojo |\n",
    "|-------|------|\n",
    "| 25    | 65   |\n",
    "| 30    | 60   |\n",
    "| 40    | 55   |\n",
    "| 45    | 45   |\n",
    "| 50    | 40   |\n",
    "\n",
    "#### Movimiento:\n",
    "\n",
    "Hay tres leyes básicas de movimiento en los modelos de autómatas celulares para describir el comportamiento de los peatones:\n",
    "\n",
    "- movimiento lateral: representa el comportamiento de cambio de trayectoria de un peatón, cuyo resultado es obtener espacio de aceleración y evitar una colisión frontal.\n",
    "- movimiento lineal: considera la velocidad de preferencia personal y otros peatones cercanos para identificar el número de pasos para avanzar.\n",
    "- evitación de colisiones: se refiere al comportamiento de cómo evitar colisiones frontales entre peatones que caminan cerca uno del otro en dirección opuesta.\n",
    "\n",
    "En la evolución de este modelo, tanto los peatones como los vehículos deben cumplir con las reglas de sus movimientos\n",
    "\n",
    "#### Reglas para peatones:\n",
    "\n",
    "Arribo, (es una distribucion Poisson).\n",
    "$P_k = \\frac{(λ_p)^{k}}{k!} × e^{-λt} = 0$\n",
    "\n",
    "Donde:\n",
    "- $P_k$ denota la probabilidad de alcanzar k peatones durante el intervalo de conteo t.\n",
    "- $λ_p$ denota la tasa media de llegada de peatones cápita/segundo.\n",
    "- $t$ denota cada intervalo de tiempo contado.\n",
    "\n",
    "En la evolución de este modelo, los peatones dan prioridad a la celda frontal como destino.\n",
    "El peatón puede avanzar en las celdas o cambiar a la izquierda o a la derecha cuando está bloqueado.\n",
    "\n",
    "La velocidad inicial del peatón (en celdas) que ingresa al cruce de peatones $v_{i,j}$, se asigna de acuerdo con:\n",
    "- 6 caso: $p > 0.978$\n",
    "- 5 caso: $0.978 ≥ p > 0.93$\n",
    "- 4 caso: $0.93 ≥ p > 0.793$\n",
    "- 3 caso: $0.793 ≥ p > 0.273$\n",
    "- 2 caso: $0.273 ≥ p ≥ 0$\n",
    "\n",
    "Donde:\n",
    "- $p$ es un número aleatorio entre 0 y 1.\n",
    "- $v_{i,j}$ denota la velocidad del peatón cuya ubicación es $x_{i,j}$.\n",
    "\n",
    "La dinámica discreta en la naturaleza y la sociedad La velocidad del peatón en el cruce de peatones durante la simulación\n",
    "se actualiza sobre la base de $v_{i,j} = min(d_{i,j}, v_{i,j})$.\n",
    "Donde:\n",
    "- $d_{i,j}$ denota el número de celdas vacías entre el peatón objetivo y su peatón verticalmente frontal más cercano.\n",
    "- $x_{i,j}$ denota la ubicación del peatón.\n",
    "- $v_{i-n,j±1}$ denota la velocidad del peatón cuya ubicación es xi−n, j±1 y es el primero detrás de la celda xi, j±1. El número de celdas vacías entre ellas es n.\n",
    "\n",
    "Debido a que varios peatones pueden competir por una celda vacía y cada celda puede estar vacía u ocupada exactamente por un peatón,\n",
    "existirán conflictos entre peatones en la evolución del modelo. Si ocurren conflictos,\n",
    "el sistema seleccionará un peatón para que ocupe la celda al azar con la misma probabilidad.\n",
    "El peatón seleccionado se moverá al destino en el siguiente paso de tiempo y el peatón que no esté seleccionado permanecerá en su ubicación original.\n",
    "Los peatones tienen que esperar en el área de espera una vez que llegan a la hora del semáforo en rojo y\n",
    "se supone que todos los peatones siguen las reglas de tránsito sin ningún comportamiento intencional al pasar el semáforo en rojo.\n",
    "El comportamiento de pasar el semáforo en rojo solo ocurre en los peatones que no han terminado de cruzar cuando termina el semáforo en verde.\n",
    "Cuando comience la luz verde, comenzarán a cruzar a las velocidades asignadas y acelerarán a la velocidad máxima para completar el cruce\n",
    "si la luz verde termina.\n",
    "\n",
    "El modelo simplifica el proceso de conflicto entre peatones opuestos.\n",
    "Los peatones en direcciones opuestas pueden cruzarse entre sí si su celda de destino está vacía; de lo contrario,\n",
    "necesitarán ajustar sus velocidades o mantener su posición original.\n",
    "\n",
    "#### Reglas para vehiculos:\n",
    "\n",
    "La ley de llegada de los vehículos es la misma que la de los peatones,\n",
    "que sigue de manera similar la distribución de Poisson. Su tasa de llegada es $λv$.\n",
    "\n",
    "Cuando el semáforo para peatones está en rojo y no hay ningún peatón en el cruce de peatones,\n",
    "los vehículos pueden cruzar por la intersección. De lo contrario, se enfrentarían a conflictos con los peatones.\n",
    "\n",
    "#### Reglas para conflictos entre peatones y vehículos:\n",
    "\n",
    "En el trabajo publicado, de acuerdo con la relación de ocupación temporal y espacial de los usuarios de la vía en la intersección,\n",
    "los conflictos entre peatones y vehículos se clasifican en 4 áreas, en la que los conflictos entre peatones y vehículos se pueden diferenciar\n",
    "en 4 tipos de la siguiente manera:\n",
    "\n",
    "- Área 1: conflictos entre vehículos que giran a la derecha desde el interior de la intersección y peatones, asumiendo que se permite girar a la derecha en rojo en la aproximación.\n",
    "- Área 2: conflictos entre vehículos que se mueven en línea recta o que giran a la izquierda desde el interior de la intersección y peatones que van a baja velocidad o aquellos que cruzan la calle al final de la luz verde, asumiendo que los vehículos no tienen comportamiento al pasar la luz roja.\n",
    "- Área 3: conflictos entre vehículos del segmento que se mueven en línea recta o que giran a la izquierda y peatones con velocidad lenta o aquellos que cruzan la calle al final de la luz verde, asumiendo que los vehículos no tienen comportamiento de pasar la luz roja.\n",
    "- Área 4: conflictos entre vehículos que giran a la derecha del segmento y peatones, asumiendo que se permite girar a la derecha en rojo en la aproximación.\n",
    "\n",
    "Hay dos definiciones relacionadas con el conflicto involucradas en el trabajo publicado. Uno es el evento de conflicto entre peatones y vehículos,\n",
    "y el otro es el retraso del conflicto de peatones.\n",
    "En este estudio de simulación, un evento de conflicto entre vehículo y peatón en un cruce de peatones se define como la situación en la que,\n",
    "para evitar una colisión con un peatón,\n",
    "el vehículo deja de avanzar hacia las celdas que actualmente están ocupadas por al menos un peatón o que estarán ocupadas. por al menos un peatón.\n",
    "La demora por conflicto de peatones significa el tiempo de parada durante el cual\n",
    "los peatones se estancan en el cruce de peatones para evitar el paso de los vehículos cuando ocurre un conflicto.\n",
    "Si se alivia el conflicto, los peatones podrán seguir cruzando. Las reglas de conflicto se asignan de la siguiente manera.\n",
    "\n",
    "- Si la celda objetivo del peatón está ocupada por un vehículo, el vehículo tiene prioridad para cruzar. Del mismo modo, si la celda objetivo del vehículo está ocupada por peatones, se dará prioridad a los peatones.\n",
    "- Si el peatón y el vehículo tienen la misma celda objetivo, lo que significa que sus próximos pasos se superponen, el sistema dará prioridad de paso a uno de ellos aleatoriamente con la misma probabilidad, es decir, 0,5."
   ]
  },
  {
   "cell_type": "markdown",
   "metadata": {
    "collapsed": false,
    "jupyter": {
     "outputs_hidden": false
    }
   },
   "source": [
    "### Codigo de resolucion"
   ]
  },
  {
   "cell_type": "markdown",
   "metadata": {
    "collapsed": false,
    "jupyter": {
     "outputs_hidden": false
    }
   },
   "source": [
    "#### Constantes\n",
    "\n",
    "La mayoria de los valores provienen de las reglas antes mencionadas."
   ]
  },
  {
   "cell_type": "code",
   "execution_count": 6,
   "metadata": {
    "collapsed": false,
    "jupyter": {
     "outputs_hidden": false
    }
   },
   "outputs": [],
   "source": [
    "# valores fijos definidos por las reglas\n",
    "\n",
    "# tiempo maximo de periodo para el semaforo\n",
    "TRAFFIC_LIGHT_TOTAL_TIME = 90\n",
    "# lista de tiempos base que el semaforo está en verde\n",
    "TRAFFIC_GREEN_LIGHT_BASE_TIME_POSSIBILITIES = (25, 30, 35, 40, 45, 50)\n",
    "# valor de la velocidad inicial segun las posibilidades,\n",
    "# ordenados segun su vínculo con la probabilidad\n",
    "# la velocidad esta expresada en celdas/tiempo\n",
    "PEDESTRIAN_INITIAL_VELOCITY_POSSIBILITIES = (6, 5, 4, 3, 2)\n",
    "# valor de la probabilidad velocidad inicial segun las posibilidades\n",
    "# (ordenados de mayor a menor)\n",
    "PROBABILITY_PEDESTRIAN_INITIAL_VELOCITY_POSSIBILITIES = (0.978, 0.93, 0.793, 0.273, 0.0)\n",
    "# probabilidad de prioriedad de movimiento del peaton ante un vehiculo\n",
    "PROBABILITY_PEDESTRIAN_PRIORITY_BEFORE_VEHICLE = 0.5\n",
    "# tamaño de vehiculo\n",
    "VEHICLE_SIZE_BROAD = 5\n",
    "VEHICLE_SIZE_LONG = 6\n",
    "# velocidad de vehiculo (1 metro = 2 celdas)\n",
    "# la velocidad esta expresada en celdas/tiempo\n",
    "VEHICLE_SPEED = 10\n",
    "# tamaño del carril\n",
    "LANE_SIZE_BROAD = 7\n",
    "# cantidad de carriles\n",
    "NUMBER_OF_LANES = 6\n",
    "# Posibles ancho del paso de peatones (1 metro = 2 celdas)\n",
    "CROSSWALKS_WIDTH_POSSIBILITIES = (5, 6, 7, 8, 9, 10)\n",
    "# el largo del paso de peatones son 21 metros que son 42 celdas que equivale a los 6 carriles\n",
    "CROSSWALKS_LARGE_POSSIBILITIES = 42\n",
    "# verificacion (por posibles cambios)\n",
    "if CROSSWALKS_LARGE_POSSIBILITIES != LANE_SIZE_BROAD * NUMBER_OF_LANES:\n",
    "    raise ValueError(\"el tamaño de los carriles y el largo de la senda peatonal no coinciden\")\n",
    "# cantidad de peatones maxima en espera al borde de la senda peatonal\n",
    "WAITING_PEDESTRIAN_CAPACITY = 100\n",
    "# cantidad de segundos que se simularan\n",
    "SECONDS_IN_HOUR = 3600\n",
    "# cantidadd e zonas de espera de peatones\n",
    "NUMBER_OF_WAITING_PEDESTRIAN = 2\n",
    "# identificador de arrivos de peatones\n",
    "ARRIVAL_PEDESTRIAN_RIGHT = \"right\"\n",
    "ARRIVAL_PEDESTRIAN_LEFT = \"left\"\n",
    "# Como se representara el vehiculo en el tablero\n",
    "REPRESENTATION_OF_THE_VEHICLE = \"V\"\n",
    "# El vehiculo por su velocidad atraviesa el tablero completamente en un segundo esta es la marca que deja\n",
    "REPRESENTATION_OF_VEHICLE_PASSAGE = \"T\""
   ]
  },
  {
   "cell_type": "markdown",
   "metadata": {
    "collapsed": false,
    "jupyter": {
     "outputs_hidden": false
    }
   },
   "source": [
    "#### Parametros\n",
    "\n",
    "Valores predefinidos para la simulacion."
   ]
  },
  {
   "cell_type": "code",
   "execution_count": 7,
   "metadata": {
    "collapsed": false,
    "jupyter": {
     "outputs_hidden": false
    }
   },
   "outputs": [],
   "source": [
    "def get_vehicle_arrival_rate(n=6):\n",
    "    result = []\n",
    "    for i in range(1, n + 1):\n",
    "        result.append(0.02 * i)\n",
    "    return result\n",
    "\n",
    "def get_pedestrian_arrival_rate(base=1000.0,n=10):\n",
    "    arrival_rate_base = base / SECONDS_IN_HOUR\n",
    "    result = []\n",
    "    for i in range(1, n + 1):\n",
    "        result.append(arrival_rate_base * i)\n",
    "    return result\n",
    "\n",
    "SEED_BASE_TO_PEDESTRIAN = 98"
   ]
  },
  {
   "cell_type": "markdown",
   "metadata": {
    "collapsed": false,
    "jupyter": {
     "outputs_hidden": false
    }
   },
   "source": [
    "#### Funciones"
   ]
  },
  {
   "cell_type": "code",
   "execution_count": 8,
   "metadata": {
    "collapsed": false,
    "jupyter": {
     "outputs_hidden": false
    }
   },
   "outputs": [
    {
     "name": "stdout",
     "output_type": "stream",
     "text": [
      "OK\n"
     ]
    }
   ],
   "source": [
    "\"\"\"receives a vector with pedestrians and a uniform random value between 0 and 1, returns a pedestrian\"\"\"\n",
    "def pedestrian_selection_for_cell(pedestrians, val_p):\n",
    "    # caso donde el valor inicial era 1\n",
    "    if val_p == 1.0:\n",
    "        return pedestrians[-1]\n",
    "    # obtengo la cantidad de peatones que compiten por la celda\n",
    "    cant = len(pedestrians)\n",
    "    # el valor aleatorio es entre 0 y 1 lo ultiplico por la cantidad\n",
    "    # asi obtengo un valor aleatorio entre 0 y la cantidad\n",
    "    # se le aplica int para eliminar los decimales\n",
    "    random_pos = int(val_p * cant)\n",
    "    return pedestrians[random_pos]\n",
    "\n",
    "\"\"\"Test of pedestrian_initial_velocity\"\"\"\n",
    "def test_pedestrian_selection_for_cell():\n",
    "    vec = (0, 1, 2, 3, 4)\n",
    "    val = pedestrian_selection_for_cell(vec, 0.0) == 0\n",
    "    val &= pedestrian_selection_for_cell(vec, 1.0) == 4\n",
    "    val &= pedestrian_selection_for_cell(vec, 0.2) == 1\n",
    "    val &= pedestrian_selection_for_cell(vec, 0.4) == 2\n",
    "    val &= pedestrian_selection_for_cell(vec, 0.6) == 3\n",
    "    val &= pedestrian_selection_for_cell(vec, 0.8) == 4\n",
    "    val &= pedestrian_selection_for_cell(vec, 0.19) == 0\n",
    "    val &= pedestrian_selection_for_cell(vec, 0.39) == 1\n",
    "    val &= pedestrian_selection_for_cell(vec, 0.59) == 2\n",
    "    val &= pedestrian_selection_for_cell(vec, 0.79) == 3\n",
    "    if val:\n",
    "        print(\"OK\")\n",
    "    else:\n",
    "        print(\"ERROR\")\n",
    "\n",
    "test_pedestrian_selection_for_cell()"
   ]
  },
  {
   "cell_type": "code",
   "execution_count": 9,
   "metadata": {
    "collapsed": false,
    "jupyter": {
     "outputs_hidden": false
    }
   },
   "outputs": [],
   "source": [
    "\"\"\"receives a random value between 0 and 1, uses that value to know if the pedestrian has priority over a vehicle competing for the same cell, returns true if the pedestrian has priority\"\"\"\n",
    "def pedestrian_priority_before_vehicle(vel_p):\n",
    "    return vel_p < PROBABILITY_PEDESTRIAN_PRIORITY_BEFORE_VEHICLE"
   ]
  },
  {
   "cell_type": "code",
   "execution_count": 10,
   "metadata": {
    "collapsed": false,
    "jupyter": {
     "outputs_hidden": false
    }
   },
   "outputs": [
    {
     "name": "stdout",
     "output_type": "stream",
     "text": [
      "OK\n"
     ]
    }
   ],
   "source": [
    "\"\"\"given a random value and two vectors, one of values ordered from highest to lowest and another of results.\n",
    "It will return the equivalent of the results according to the largest number in the vector to which the random value is greater.\"\"\"\n",
    "def get_discrete_value_according_to_probability(val_p, interval, vec):\n",
    "    # verifica que sea mayor al numero del vector\n",
    "    # (el vector empieza ordenado como pre condicion)\n",
    "    for i in range(len(interval)):\n",
    "        if val_p > interval[i]:\n",
    "            return vec[i]\n",
    "    # caso nulo retorna el ultimo valor\n",
    "    return vec[-1]\n",
    "\n",
    "\"\"\"given a random value it will return The initial speed of the pedestrian entering the crosswalk,\n",
    "according to the previous rules.\"\"\"\n",
    "def pedestrian_initial_velocity(val_p):\n",
    "    # valor de la velocidad segun las reglas\n",
    "    vec = PEDESTRIAN_INITIAL_VELOCITY_POSSIBILITIES\n",
    "    # probabilidad del valor de la velocidad segun las reglas\n",
    "    interval = PROBABILITY_PEDESTRIAN_INITIAL_VELOCITY_POSSIBILITIES\n",
    "    return get_discrete_value_according_to_probability(val_p, interval, vec)\n",
    "\n",
    "\"\"\"Test of pedestrian_initial_velocity\"\"\"\n",
    "def test_pedestrian_initial_velocity():\n",
    "    val = pedestrian_initial_velocity(1.0) == 6\n",
    "    val &= pedestrian_initial_velocity(0.979) == 6\n",
    "    val &= pedestrian_initial_velocity(0.978) == 5\n",
    "    val &= pedestrian_initial_velocity(0.931) == 5\n",
    "    val &= pedestrian_initial_velocity(0.930) == 4\n",
    "    val &= pedestrian_initial_velocity(0.794) == 4\n",
    "    val &= pedestrian_initial_velocity(0.793) == 3\n",
    "    val &= pedestrian_initial_velocity(0.274) == 3\n",
    "    val &= pedestrian_initial_velocity(0.273) == 2\n",
    "    val &= pedestrian_initial_velocity(0.001) == 2\n",
    "    val &= pedestrian_initial_velocity(0.0) == 2\n",
    "    if val:\n",
    "        print(\"OK\")\n",
    "    else:\n",
    "        print(\"ERROR\")\n",
    "\n",
    "test_pedestrian_initial_velocity()"
   ]
  },
  {
   "cell_type": "code",
   "execution_count": 11,
   "metadata": {
    "collapsed": false,
    "jupyter": {
     "outputs_hidden": false
    }
   },
   "outputs": [
    {
     "name": "stdout",
     "output_type": "stream",
     "text": [
      "Counter({5: 3, 34: 3, 43: 3, 92: 3, 96: 3, 98: 3, 4: 2, 9: 2, 12: 2, 16: 2, 18: 2, 19: 2, 20: 2, 24: 2, 25: 2, 26: 2, 32: 2, 33: 2, 38: 2, 59: 2, 62: 2, 63: 2, 67: 2, 68: 2, 69: 2, 70: 2, 87: 2, 90: 2, 0: 1, 6: 1, 7: 1, 8: 1, 10: 1, 13: 1, 14: 1, 21: 1, 23: 1, 27: 1, 28: 1, 29: 1, 30: 1, 35: 1, 36: 1, 37: 1, 40: 1, 41: 1, 44: 1, 48: 1, 50: 1, 52: 1, 53: 1, 57: 1, 58: 1, 60: 1, 61: 1, 64: 1, 65: 1, 73: 1, 75: 1, 76: 1, 78: 1, 79: 1, 80: 1, 82: 1, 83: 1, 84: 1, 89: 1, 95: 1, 99: 1}) 69 103\n"
     ]
    }
   ],
   "source": [
    "def exponencial(val_p, value_lambda):\n",
    "    return -(np.log(1 - val_p)) / value_lambda\n",
    "\n",
    "def generate_arrivals(seed, seconds, value_lambda):\n",
    "    result = []\n",
    "    total = 0.0\n",
    "    # generador de numeros aleatorios\n",
    "    random = MixmaxRNG(seed, MATRIX_SIZE, MAGIC_NUMBER, MAGIC_MODULUS)\n",
    "    while total < seconds:\n",
    "        # nuevo arrivo en segundos\n",
    "        exp = exponencial(random.generate_number(), value_lambda)\n",
    "        # tiempo acumulado de arrivo\n",
    "        total += exp\n",
    "        if total > seconds:\n",
    "            break\n",
    "        # se agrega el tiempo acumulado\n",
    "        result.append(total)\n",
    "    return result\n",
    "\n",
    "def histogram_to_list(arrivals):\n",
    "    vals_to_count = [int(i) for i in arrivals]\n",
    "    hist = Counter(vals_to_count)\n",
    "    return hist\n",
    "\n",
    "arrivals = generate_arrivals(27, 100, 1)\n",
    "hist = histogram_to_list(arrivals)\n",
    "print(hist, len(hist), sum(hist.values()))"
   ]
  },
  {
   "cell_type": "markdown",
   "metadata": {
    "collapsed": false,
    "jupyter": {
     "outputs_hidden": false
    }
   },
   "source": [
    "#### Tipos"
   ]
  },
  {
   "cell_type": "code",
   "execution_count": 12,
   "metadata": {
    "collapsed": false,
    "jupyter": {
     "outputs_hidden": false
    }
   },
   "outputs": [],
   "source": [
    "# class Poisson:\n",
    "#     def __init__(self, value_lambda, funtion_uniform):\n",
    "#         # self.iter = 0\n",
    "#         self.p = 1.0\n",
    "#         self.value_lambda = value_lambda\n",
    "#         self.funtion_uniform = funtion_uniform\n",
    "#\n",
    "#     # todo REVISAR ESTA FORMULA https://www.columbia.edu/~ks20/4404-Sigman/4404-Notes-ITM.pdf\n",
    "#     # todo considerar realizar un poisson con exponenciales\n",
    "#     def get_random_numbers(self):\n",
    "#         # x = self.iter\n",
    "#         result = self.p\n",
    "#         while result > np.exp(-self.value_lambda):\n",
    "#             uniform = self.funtion_uniform.generate_number()\n",
    "#             result *= uniform\n",
    "#             # x += 1\n",
    "#         return result"
   ]
  },
  {
   "cell_type": "code",
   "execution_count": 13,
   "metadata": {
    "collapsed": false,
    "jupyter": {
     "outputs_hidden": false
    }
   },
   "outputs": [],
   "source": [
    "\"\"\"representation of the specific location of the board\"\"\"\n",
    "class Cell:\n",
    "    def __init__(self):\n",
    "        # quien ocupa la celda\n",
    "        self.content = None\n",
    "        # cantidad de pretendientes a ocupar la celda\n",
    "        self.pretenders = []\n",
    "\n",
    "    def is_empty(self):\n",
    "        return self.content is None\n",
    "\n",
    "    def transfer(self, new_content=None):\n",
    "        self.content = new_content\n",
    "\n",
    "    def draw_view(self):\n",
    "        if self.content is None:\n",
    "            return \" \"\n",
    "        return self.content.draw_view()\n",
    "\n",
    "    def contain_pedestrian(self):\n",
    "        if self.content is None:\n",
    "            return False\n",
    "        return self.content.is_pedestrian()\n",
    "\n",
    "    def get_contain(self):\n",
    "        return self.content\n",
    "\n",
    "    def add_pretender(self, pretender):\n",
    "        if not pretender.is_pedestrian():\n",
    "            raise TypeError(\"ERROR, Pedestrian expected.\")\n",
    "        self.pretenders.append(pretender)\n",
    "\n",
    "    def select_pretender(self, val_p):\n",
    "        # intervalos de probabilidad\n",
    "        interval = []\n",
    "        # cantidad de pretendientes a ocupar la celda\n",
    "        n_pretenders = len(self.pretenders)\n",
    "        base_p = 1 / n_pretenders\n",
    "        for n in range(n_pretenders):\n",
    "            # se le suma 1 a n por que inicia en 0\n",
    "            interval.append(1 - (base_p * (n + 1)))\n",
    "        self.content = get_discrete_value_according_to_probability(val_p, interval, self.pretenders)\n",
    "        # anula los anteriores pretendientes\n",
    "        self.pretenders = []\n",
    "        # el peaton pretendiente se traslada a la celda\n",
    "        return self.content.transfer()"
   ]
  },
  {
   "cell_type": "code",
   "execution_count": 14,
   "metadata": {
    "collapsed": false,
    "jupyter": {
     "outputs_hidden": false
    }
   },
   "outputs": [],
   "source": [
    "class PedestrianWaitingSpace:\n",
    "    def __init__(self, pedestrian_arrivals, initial_time=0, seed_to_pedestrian=1):\n",
    "        self.waiting_quantity = 0\n",
    "        self.waiting_capacity = WAITING_PEDESTRIAN_CAPACITY\n",
    "        self.pedestrian_arrivals = pedestrian_arrivals\n",
    "        self.tick(False, initial_time)\n",
    "        self.seed_to_pedestrian = seed_to_pedestrian\n",
    "\n",
    "    def tick(self, is_green_light, actual_time):\n",
    "        # se obtiene la cantidad de arrivos en el tiempo dado\n",
    "        pedestrian_arrivals = self.pedestrian_arrivals[actual_time]\n",
    "        # caso donde se supera la cantidad maxima de peatones solo llega al maximo\n",
    "        if self.waiting_quantity + pedestrian_arrivals > WAITING_PEDESTRIAN_CAPACITY:\n",
    "            self.waiting_quantity = WAITING_PEDESTRIAN_CAPACITY\n",
    "        else:\n",
    "            # el valor aleatorio crea N peatones en espera\n",
    "            self.waiting_quantity += pedestrian_arrivals\n",
    "        # caso de semaforo verde: los peatones intentan moverse para salir de la espera\n",
    "        if is_green_light:\n",
    "            # Se comunica con el tablero para decir que hay peatones a moverse\n",
    "            return self.waiting_quantity\n",
    "        # caso de semaforo rojo: siguen esperando\n",
    "        return 0\n",
    "\n",
    "    def pedestrians_waiting(self):\n",
    "        return self.waiting_quantity\n",
    "\n",
    "    \"\"\"generates a pedestrian in a position with a movement to one side.\"\"\"\n",
    "    def generate_pedestrian(self, pos, to_right):\n",
    "        # caso de intentar generar peaton cuando no hay peatones esperando\n",
    "        if self.waiting_quantity == 0:\n",
    "            raise BufferError(\"Error, waiting quantity equal to cero.\")\n",
    "        # peaton que saldra de la zona de espera\n",
    "        result = Pedestrian(pos, to_right, self.seed_to_pedestrian)\n",
    "        # debe incrementa de a zonas de esperas ya que cada zona tendra un valor que difiere en una cantidad menor\n",
    "        self.seed_to_pedestrian += NUMBER_OF_WAITING_PEDESTRIAN\n",
    "        # el peaton sale de la zona de espera\n",
    "        self.waiting_quantity -= 1\n",
    "        return result"
   ]
  },
  {
   "cell_type": "code",
   "execution_count": 32,
   "metadata": {
    "collapsed": false,
    "jupyter": {
     "outputs_hidden": false
    }
   },
   "outputs": [],
   "source": [
    "class TraficLane:\n",
    "    def __init__(self, vehicle_arrivals, from_upper, cells_to_pass, green_driving=False, initial_time=0):\n",
    "        self.from_upper = from_upper\n",
    "        self.vehicle_arrivals = vehicle_arrivals\n",
    "        self.green_driving = green_driving\n",
    "        self.waiting_quantity = 0\n",
    "        self.cells_to_pass = cells_to_pass\n",
    "        self.tick(False, initial_time)\n",
    "        # cantidad de celdas extra que tienen que esperar los vehiculos\n",
    "        self.wait_cells = 0\n",
    "\n",
    "    def tick(self, is_green_light, actual_time):\n",
    "        # caso si no hay vehiculos en espera\n",
    "        if self.waiting_quantity == 0:\n",
    "            self.wait_cells = 0\n",
    "        # se obtiene la cantidad de arrivos en el tiempo dado\n",
    "        vehicle_arrivals = self.vehicle_arrivals[actual_time]\n",
    "        self.waiting_quantity += vehicle_arrivals\n",
    "        # caso de carril bloqueado no se traslada\n",
    "        if self._is_blocked_lane():\n",
    "            return 0\n",
    "        # caso de conduccion en verde NO permitida y caso de semaforo verde: se detiene y espera\n",
    "        if not self.green_driving and is_green_light:\n",
    "            return 0\n",
    "        # caso de conduccion en verde permitida o caso de semaforo rojo: se intenta trasladar\n",
    "        return self.waiting_quantity\n",
    "\n",
    "    def vehicles_waiting(self):\n",
    "        return self.waiting_quantity\n",
    "\n",
    "    \"\"\"returns true if there is at least one locked cell\"\"\"\n",
    "    def _is_blocked_lane(self):\n",
    "        # busco en todas las celdas pertinentes al paso del vehiculo\n",
    "        for cell in self.cells_to_pass:\n",
    "            # caso donde la celda NO vacia y contiene un peaton\n",
    "            if not cell.is_empty() and cell.contain_pedestrian():\n",
    "                return True\n",
    "        return False\n",
    "\n",
    "    def is_lane_reserver_for_vehicles(self):\n",
    "        # busco en todas las celdas pertinentes al paso del vehiculo\n",
    "        for cell in self.cells_to_pass:\n",
    "            # caso donde la celda NO vacia y NO contiene un peaton\n",
    "            if cell.is_empty() or cell.contain_pedestrian():\n",
    "                return False\n",
    "        return True\n",
    "\n",
    "    def get_cells(self):\n",
    "        return self.cells_to_pass\n",
    "\n",
    "    def generate_vehicle(self, to_upper):\n",
    "        # caso de intentar generar vehiculo cuando no hay vehiculos esperando\n",
    "        if self.waiting_quantity == 0:\n",
    "            raise BufferError(\"Error, waiting quantity equal to cero.\")\n",
    "        vehicle = Vehicle(to_upper)\n",
    "        self.waiting_quantity -= 1\n",
    "        return vehicle\n",
    "\n",
    "    def set_pass_croswalk(self):\n",
    "        # largo total de autos que pasan (caso donde todos los que esperan pasan)\n",
    "        total_length = self.waiting_quantity * VEHICLE_SIZE_LONG\n",
    "        # los que siguen en espera\n",
    "        wait_length = total_length - VEHICLE_SPEED\n",
    "        # caso donde quedan celdas donde transito el auto pero ya paso\n",
    "        if wait_length < 0:\n",
    "            cant_to_pass = (-wait_length) * VEHICLE_SIZE_BROAD\n",
    "            n = 0\n",
    "            for cell in self.cells_to_pass:\n",
    "                if n < cant_to_pass:\n",
    "                    cell.transfer(VehicleTransition())\n",
    "                else:\n",
    "                    cell.transfer(Vehicle())\n",
    "                n += 1\n",
    "        # caso donde todavia no terminaron de pasar los autos\n",
    "        else:\n",
    "            for cell in self.cells_to_pass:\n",
    "                cell.transfer(Vehicle())\n",
    "        # solo pueden pasar 2 como maximo ya que el largo de los coches es de 6 y se mueven a 10\n",
    "        # pero el proximo debera esperar 2 celdas mas atras\n",
    "        if VEHICLE_SIZE_LONG + self.wait_cells < VEHICLE_SPEED:\n",
    "            self.wait_cells += 2\n",
    "            result = 2\n",
    "        # caso donde se acumularon tantos coches que solo pasa uno nuevo\n",
    "        else:\n",
    "            self.wait_cells = (VEHICLE_SIZE_LONG + self.wait_cells) % VEHICLE_SPEED\n",
    "            result = 1\n",
    "        return result"
   ]
  },
  {
   "cell_type": "code",
   "execution_count": 16,
   "metadata": {
    "collapsed": false,
    "jupyter": {
     "outputs_hidden": false
    }
   },
   "outputs": [],
   "source": [
    "\"\"\"representation of a pedestrian traffic light\"\"\"\n",
    "class TraficLight:\n",
    "    def __init__(self, green_pos):\n",
    "        self.green_time = 0\n",
    "        self.red_time = 0\n",
    "        # actualizo el tiempo de las luces\n",
    "        self._traffic_light_times(green_pos)\n",
    "        # caso de falla por parametro incorrecto\n",
    "        if self.green_time == 0 or self.red_time == 0 or self.red_time == TRAFFIC_LIGHT_TOTAL_TIME:\n",
    "            raise ValueError(\"Error, in creation of the traffic light.\")\n",
    "        # tiempo actual perteneciente al periodo NO ES EL TIEMPO TOTAL\n",
    "        self.actual_time = 0\n",
    "\n",
    "    def _traffic_light_times(self, green_pos):\n",
    "        types_traffic_green_light_base_time = TRAFFIC_GREEN_LIGHT_BASE_TIME_POSSIBILITIES\n",
    "        if green_pos > len(types_traffic_green_light_base_time) or green_pos < 0:\n",
    "            raise ValueError(\"Not exist traffic light base time type. Existing types 0 to \" + str(len(types_traffic_green_light_base_time)) + \". wrong type entered: \" + green_pos)\n",
    "        self.green_time = types_traffic_green_light_base_time[green_pos]\n",
    "        self.red_time = TRAFFIC_LIGHT_TOTAL_TIME - self.green_time\n",
    "\n",
    "    def is_green_light(self):\n",
    "        # inicia el semaforo en verde luego se pasa a rojo\n",
    "        return self.actual_time < self.green_time\n",
    "\n",
    "    def is_initial_period(self):\n",
    "        return self.actual_time == 0\n",
    "\n",
    "    def tick(self):\n",
    "        # el tiempo actual varia en el rango de [0;90)\n",
    "        self.actual_time = (self.actual_time + 1) % TRAFFIC_LIGHT_TOTAL_TIME"
   ]
  },
  {
   "cell_type": "code",
   "execution_count": 35,
   "metadata": {
    "collapsed": false,
    "jupyter": {
     "outputs_hidden": false
    }
   },
   "outputs": [],
   "source": [
    "\"\"\"representation of the board where the simulation occurs\"\"\"\n",
    "class Cross:\n",
    "    def __init__(self, crosswalks_width, pedestrian_arrivals, vehicle_arrivals, green_pos, seed_to_pedestrian=1):\n",
    "        # Creacion del cruze peatonal\n",
    "        self.matriz = self._generate_matriz(crosswalks_width)\n",
    "        # Creacion de las zonas de esperas de los peatones\n",
    "        self.pedestrian_waiting_space_rigth = PedestrianWaitingSpace(pedestrian_arrivals[ARRIVAL_PEDESTRIAN_RIGHT], seed_to_pedestrian=seed_to_pedestrian)\n",
    "        self.pedestrian_waiting_space_left = PedestrianWaitingSpace(pedestrian_arrivals[ARRIVAL_PEDESTRIAN_LEFT], seed_to_pedestrian=seed_to_pedestrian+1)\n",
    "        # Creacion de la luz de trafico peatonal\n",
    "        self.trafic_light = TraficLight(green_pos)\n",
    "        # Creacion de los carriles\n",
    "        self.lanes = []\n",
    "        for n_lane in range(NUMBER_OF_LANES):\n",
    "            cells_to_vehicles = self._get_cells_to_vehicle(n_lane)\n",
    "            lane = TraficLane(vehicle_arrivals[n_lane], self._lane_is_upper(n_lane), cells_to_vehicles, self._lane_is_green_move(n_lane))\n",
    "            self.lanes.append(lane)\n",
    "        # tiempo total de la simulacion\n",
    "        self.actual_time = 0\n",
    "\n",
    "    def _get_cells_to_vehicle(self, n_lane):\n",
    "        # LANE = 7 = 1 + VEHICLE_SIZE_BROAD + 1\n",
    "        margin = (LANE_SIZE_BROAD - VEHICLE_SIZE_BROAD) / 2\n",
    "        # caso de error de cuentas\n",
    "        if margin * 2 + VEHICLE_SIZE_BROAD != LANE_SIZE_BROAD:\n",
    "            raise ValueError(\"Error, in margin of line.\")\n",
    "        # calculo de celdas, tener en cuenta que los autos van a 10 celdas por segundo y el ancho maximo del cruce es de 7 celdas\n",
    "        cells = []\n",
    "        for crosswalk in self.matriz:\n",
    "            # debe ser 7N + 1\n",
    "            left = int(n_lane * LANE_SIZE_BROAD + margin)\n",
    "            # debe ser 7(N+1) - 1\n",
    "            rigth = int((n_lane + 1) * LANE_SIZE_BROAD - margin)\n",
    "            cells_cros_walk = crosswalk[left:rigth]\n",
    "            # caso de calculo fallido\n",
    "            if len(cells_cros_walk) != VEHICLE_SIZE_BROAD:\n",
    "                raise ValueError(\"Error, in get borders of cross walk cells.\")\n",
    "            cells.extend(cells_cros_walk)\n",
    "        return cells\n",
    "\n",
    "\n",
    "    @staticmethod\n",
    "    def _lane_is_upper(n_lane):\n",
    "            # La primer mitad de los carriles los autos van desde la parte superior del tablero\n",
    "            if n_lane < NUMBER_OF_LANES / 2:\n",
    "                return True\n",
    "            return False\n",
    "\n",
    "    @staticmethod\n",
    "    def _lane_is_green_move(n_lane):\n",
    "            # Solo los carriles del borde pueden moverse en luz peatonal verde\n",
    "            if n_lane == 0 or n_lane == (NUMBER_OF_LANES - 1):\n",
    "                return True\n",
    "            return False\n",
    "\n",
    "    @staticmethod\n",
    "    def _generate_matriz(crosswalks_width):\n",
    "        crosswalks = []\n",
    "        for i in range(crosswalks_width):\n",
    "            # representacion del camino recto que deberian seguir los peatones\n",
    "            crosswalk = []\n",
    "            for j in range(CROSSWALKS_LARGE_POSSIBILITIES):\n",
    "                crosswalk.append(Cell())\n",
    "            crosswalks.append(crosswalk)\n",
    "        return crosswalks\n",
    "\n",
    "    def get_distance_to_next_obstacle(self, initial_pos, rigth):\n",
    "        # \"rigth\" hace referencia a la derecha desde la perspectiva del tablero\n",
    "        # el equivalente (respecto al peaton) de \"rigth\" o \"left\" en este caso seria solo \"forward\"\n",
    "        crosswalk = self.matriz[initial_pos[0]]\n",
    "        # obtengo la velocidad maxima posible del peaton\n",
    "        max_vel_pedestrian = max(PEDESTRIAN_INITIAL_VELOCITY_POSSIBILITIES)\n",
    "        # caso donde se mueve a la derecha\n",
    "        if rigth:\n",
    "            route = range(initial_pos[1] + 1, len(crosswalk))\n",
    "            result = self._aux_distance_to_next_obstacle(crosswalk, route, max_vel_pedestrian)\n",
    "            # for n in range(initial_pos[1] + 1, len(crosswalk)):\n",
    "            #     # caso donde la celda esta bloqueada\n",
    "            #     if not crosswalk[n].is_empty():\n",
    "            #         return result\n",
    "            #     # caso donde la celda NO esta bloqueada y es la ultima\n",
    "            #     if n == len(crosswalk):\n",
    "            #         # se le suma dos, uno por la celda no bloqueada y otro por la finalizacion del recorrido\n",
    "            #         return result + 2\n",
    "            #     # la celda NO esta bloqueada y NO es la ultima\n",
    "            #     result += 1\n",
    "            #     # no tiene sentido indicar una distancia mayor a la capacidad de recorrerla para el peaton\n",
    "            #     # caso donde hay mas espacio libre que la distancia maxima que puede recorrer en un segundo\n",
    "            #     if result >= max_vel_pederastian:\n",
    "            #         return result\n",
    "        # caso donde se mueve a la izquierda\n",
    "        else:\n",
    "            route = range(initial_pos[1] - 1, 0, -1)\n",
    "            result = self._aux_distance_to_next_obstacle(crosswalk, route, max_vel_pedestrian)\n",
    "            # for n in range(initial_pos[1] - 1, 0, -1):\n",
    "            #     # caso donde la celda esta bloqueada\n",
    "            #     if not crosswalk[n].is_empty():\n",
    "            #         return result\n",
    "            #     # caso donde la celda NO esta bloqueada y es la ultima\n",
    "            #     if n == 0:\n",
    "            #         # se le suma dos, uno por la celda no bloqueada y otro por la finalizacion del recorrido\n",
    "            #         return result + 2\n",
    "            #     result += 1\n",
    "            #     # no tiene sentido indicar una distancia mayor a la capacidad de recorrerla para el peaton\n",
    "            #     # caso donde hay mas espacio libre que la distancia maxima que puede recorrer en un segundo\n",
    "            #     if result >= max_vel_pederastian:\n",
    "            #         return result\n",
    "        return result\n",
    "\n",
    "    @staticmethod\n",
    "    def _aux_distance_to_next_obstacle(crosswalk, range, limit):\n",
    "        result = 0\n",
    "        for n in range:\n",
    "            # caso donde la celda esta bloqueada\n",
    "            if not crosswalk[n].is_empty():\n",
    "                return result\n",
    "            # caso donde la celda NO esta bloqueada y es la ultima\n",
    "            if n == 0:\n",
    "                # se le suma dos, uno por la celda no bloqueada y otro por la finalizacion del recorrido\n",
    "                return result + 2\n",
    "            result += 1\n",
    "            # no tiene sentido indicar una distancia mayor a la capacidad de recorrerla para el peaton\n",
    "            # caso donde hay mas espacio libre que la distancia maxima que puede recorrer en un segundo\n",
    "            if result >= limit:\n",
    "                return result\n",
    "        return result\n",
    "\n",
    "    def lateral_movement_allowed(self, initial_pos, rigth):\n",
    "        # \"rigth\" hace referencia a la derecha desde la perspectiva del peaton\n",
    "        # el equivalente (respecto al tablero) de \"rigth\" es arriba y de \"left\" abajo\n",
    "        if rigth:\n",
    "            new_x = initial_pos[0] - 1\n",
    "            if new_x < 0:\n",
    "                return False\n",
    "            new_pos = (new_x, initial_pos[1])\n",
    "        else:\n",
    "            new_x = initial_pos[0] + 1\n",
    "            if new_x >= len(self.matriz):\n",
    "                return False\n",
    "            new_pos = (new_x, initial_pos[1])\n",
    "        return self._get_pos(new_pos).is_empty()\n",
    "\n",
    "    def _get_pos(self, pos):\n",
    "        # retorna la celda de la matiz\n",
    "        return self.matriz[pos[0]][pos[1]]\n",
    "\n",
    "    \"\"\"The execution of this function involves the passage of one second\"\"\"\n",
    "    def tick(self):\n",
    "        # Los ticks representan en este problema el paso de un segundo\n",
    "        # Actualizo el semaforo\n",
    "        self.trafic_light.tick()\n",
    "        # Obtengo el estado de la luz del semaforo\n",
    "        green_light = self.trafic_light.is_green_light()\n",
    "        # Actualizo las zonas de espera de los peatones\n",
    "        waiting_rigth = self.pedestrian_waiting_space_rigth.tick(green_light, self.actual_time)\n",
    "        waiting_left = self.pedestrian_waiting_space_left.tick(green_light, self.actual_time)\n",
    "        # Actualizo los carriles\n",
    "        waiting_vehicle = []\n",
    "        for line in self.lanes:\n",
    "            waiting_vehicle.append(line.tick(green_light, self.actual_time))\n",
    "        # Actualizo a los peatones\n",
    "        self._update_crosswalk(waiting_rigth, waiting_left, waiting_vehicle)\n",
    "        self.actual_time += 1\n",
    "\n",
    "    def _update_crosswalk(self, waiting_rigth, waiting_left, waiting_vehicle):\n",
    "        # todo terminar\n",
    "        # todo esta funcion puede partirse en mas funciones refactorizar\n",
    "        # numero de carril\n",
    "        n_lane = 0\n",
    "        # verifico si hay autos que quieren pasar\n",
    "        for vehicle in waiting_vehicle:\n",
    "            # carril de los autos\n",
    "            lane = self.lanes[n_lane]\n",
    "            # ningun auto quiere pasar\n",
    "            if vehicle == 0:\n",
    "                # caso donde el carril estaba reservado para vehiculos y ningun vehiculo quiere pasar\n",
    "                if lane.is_lane_reserver_for_vehicles():\n",
    "                    # limpio la reserva de vehiculos\n",
    "                    for cell in lane.get_cells():\n",
    "                        cell.transfer()\n",
    "                continue\n",
    "            # al menos un auto compite con los peatones para pasar\n",
    "            # se toma un valor al azar uniforme\n",
    "            val_uniform = 0 # todo aca deberia estar el generador aleatorio\n",
    "            # si el valor supera la prioriedad de los peatones pasa el vehiculo\n",
    "            if not pedestrian_priority_before_vehicle(val_uniform) or lane.is_lane_reserver_for_vehicles():\n",
    "                # se bloquean las celdas para que pasen los vehiculos\n",
    "                n_vehicles_pass = lane.set_pass_croswalk()\n",
    "                # se crean los vehiculos\n",
    "                for _ in range(n_vehicles_pass):\n",
    "                    _ = lane.generate_vehicle()\n",
    "            n_lane += 1\n",
    "\n",
    "        # analizo todas las celdas en busca de los peatones\n",
    "        # lista de todos las posiciones de celdas con peatones\n",
    "        pos_pedestrian_cells = self._get_all_pos_cells_whit_pedestrian()\n",
    "        # lista de celdas pretendidas por peatones\n",
    "        pedestrian_intended_cells = []\n",
    "        for pos in pos_pedestrian_cells:\n",
    "            # obtengo la celda\n",
    "            celda = self.matriz[pos[0]][pos[1]]\n",
    "            # obtengo el peaton\n",
    "            pedestrian = celda.get_contain()\n",
    "            # obtengo si el peaton se mueve hacia la derecha o izquierda\n",
    "            moving_right = pedestrian.is_moving_rigth()\n",
    "            # obtengo siguiente obstaculo en su camino\n",
    "            next_obstacle = self.get_distance_to_next_obstacle(pos, moving_right)\n",
    "            # obengo velocidad final del peaton\n",
    "            pedestrian_velocity = pedestrian.get_velocity_final(next_obstacle)\n",
    "            # caso donde no puede mover hacia adelante\n",
    "            if pedestrian_velocity == 0:\n",
    "                to_up = pedestrian.to_upper()\n",
    "                delta_x = 1 if to_up else -1\n",
    "                # movimiento lateral\n",
    "                # primero intenta moverse a donde quiere el peaton\n",
    "                if self.lateral_movement_allowed(pos, to_up):\n",
    "                    new_pos = (pos[0] + delta_x, pos[1])\n",
    "                    self._agregate_to_intended_cells(pedestrian, new_pos, pedestrian_intended_cells)\n",
    "                # caso donde no consigue lugar trata de moverse al lado contrario\n",
    "                elif self.lateral_movement_allowed(pos, not to_up):\n",
    "                    new_pos = (pos[0] - delta_x, pos[1])\n",
    "                    self._agregate_to_intended_cells(pedestrian, new_pos, pedestrian_intended_cells)\n",
    "                # si no se puede mover hacia adelante o hacia atras no hace nada\n",
    "                continue\n",
    "            elif moving_right:\n",
    "                pos_y = pos[1] + pedestrian_velocity\n",
    "                # caso donde el peaton cruza completamente\n",
    "                if pos_y >= CROSSWALKS_LARGE_POSSIBILITIES:\n",
    "                    celda.transfer()\n",
    "                else:\n",
    "                    new_pos = (pos[0], pos_y)\n",
    "                    self._agregate_to_intended_cells(pedestrian, new_pos, pedestrian_intended_cells)\n",
    "            else:\n",
    "                pos_y = pos[1] - pedestrian_velocity\n",
    "                # caso donde el peaton cruza completamente\n",
    "                if pos_y < 0:\n",
    "                    celda.transfer()\n",
    "                else:\n",
    "                    new_pos = (pos[0], pos_y)\n",
    "                    self._agregate_to_intended_cells(pedestrian, new_pos, pedestrian_intended_cells)\n",
    "        for intended_cell in pedestrian_intended_cells:\n",
    "            # genero valor aleatorio para saber que peaton se mueve\n",
    "            val_p = 0 # todo aca va el numero aleatorio\n",
    "            # traslado al peaton a su nueva celda\n",
    "            ex_pos = intended_cell.select_pretender(val_p)\n",
    "            # elimino de la vieja celda al peaton para que solo ocupe una celda a la vez\n",
    "            self.matriz[ex_pos[0]][ex_pos[1]].transfer()\n",
    "        # todo\n",
    "        #\n",
    "        return\n",
    "\n",
    "    def _get_all_pos_cells_whit_pedestrian(self):\n",
    "        result = []\n",
    "        for n_crosswalk, crosswalk in enumerate(self.matriz):\n",
    "            for n_cell, cell in enumerate(crosswalk):\n",
    "                # caso de celda no vacia que contiene un peaton\n",
    "                if not cell.is_empty() and cell.contain_pedestrian():\n",
    "                    # posicion actual de la celda\n",
    "                    pos = (n_crosswalk, n_cell)\n",
    "                    result.append(pos)\n",
    "        return result\n",
    "\n",
    "    def _agregate_to_intended_cells(self, pedestrian, new_pos, pedestrian_intended_cells):\n",
    "        pedestrian.possibilitie_transfer(new_pos)\n",
    "        intended_cell = self.matriz[new_pos[0]][new_pos[1]]\n",
    "        intended_cell.add_pretender(pedestrian)\n",
    "        if not intended_cell in pedestrian_intended_cells:\n",
    "            pedestrian_intended_cells.append(intended_cell)\n",
    "\n",
    "    # Info estadistica\n",
    "\n",
    "    \"\"\"It is the beginning of the traffic light period\"\"\"\n",
    "    def is_initial_period(self):\n",
    "        return self.trafic_light.is_initial_period()\n",
    "\n",
    "    \"\"\"returns the number of pedestrians who failed to complete the crossing\"\"\"\n",
    "    def get_missing_pedestrians(self):\n",
    "        n_missing_pedestrians = 0\n",
    "        for crosswalk in self.matriz:\n",
    "            for cell in crosswalk:\n",
    "                if not cell.is_empty():\n",
    "                    n_missing_pedestrians += 1\n",
    "        return n_missing_pedestrians\n",
    "\n",
    "    \"\"\"returns the number of pedestrians who are waiting at the edges of both intersections and who have not yet begun to cross\"\"\"\n",
    "    def get_pedestrians_waiting(self):\n",
    "        pedestrians_waiting_left = self.pedestrian_waiting_space_left.pedestrians_waiting()\n",
    "        pedestrians_waiting_right = self.pedestrian_waiting_space_rigth.pedestrians_waiting()\n",
    "        return pedestrians_waiting_left, pedestrians_waiting_right\n",
    "\n",
    "    \"\"\"returns the number of vehicles who are waiting (per lane) and who have not yet begun to cross\"\"\"\n",
    "    def get_vehicles_waiting(self):\n",
    "        result = []\n",
    "        for lane in self.lanes:\n",
    "            result.append(lane.vehicles_waiting())\n",
    "        return result\n",
    "\n",
    "    def get_light_is_green(self):\n",
    "        return self.trafic_light.is_green_light()\n",
    "\n",
    "    def get_crossing_status(self):\n",
    "        return self.matriz"
   ]
  },
  {
   "cell_type": "code",
   "execution_count": 18,
   "metadata": {
    "collapsed": false,
    "jupyter": {
     "outputs_hidden": false
    }
   },
   "outputs": [],
   "source": [
    "\"\"\"representation on the dashboard of a pedestrian\"\"\"\n",
    "class Pedestrian:\n",
    "    def __init__(self, pos, to_right, seed):\n",
    "        # posicion actual del peaton\n",
    "        self.pos = pos\n",
    "        # posicion tentativa (a trasladarse) del peaton\n",
    "        self.attempt_pos = pos\n",
    "        # indica si el peaton quiere ir hacia la derecha, o izquierda (respecto al tablero)\n",
    "        self.direction_is_right = to_right\n",
    "        # velocidad del peaton\n",
    "        self.vel = 0\n",
    "        # generador de valores aleatorio para calcular velocidad\n",
    "        self.random = MixmaxRNG(seed, MAGIC_NUMBER, MAGIC_MODULUS)\n",
    "\n",
    "    def transfer(self):\n",
    "        # vieja posicion\n",
    "        ex_pos = self.pos\n",
    "        self.pos = self.attempt_pos\n",
    "        return ex_pos\n",
    "\n",
    "    def is_transferred(self):\n",
    "        return self.pos == self.attempt_pos\n",
    "\n",
    "    def possibilitie_transfer(self, pos):\n",
    "        self.attempt_pos = pos\n",
    "\n",
    "    def draw_view(self):\n",
    "        # la velocidad NUNCA llega a 2 digitos\n",
    "        # velocidad maxima 6 celdas\n",
    "        return str(self.vel)\n",
    "\n",
    "    def is_moving_rigth(self):\n",
    "        return self.direction_is_right\n",
    "\n",
    "    @staticmethod\n",
    "    def is_pedestrian():\n",
    "        return True\n",
    "\n",
    "    def get_velocity_final(self, limit):\n",
    "        # velocidad inicial = velocidad a la que el peaton pretende moverse\n",
    "        initial_velocity = pedestrian_initial_velocity(self.random.generate_number())\n",
    "        # la velocidad a la que se movera el peaton sera la minima entre el limite de velocidad y la velocidad inicial\n",
    "        self.vel = min(limit, initial_velocity)\n",
    "        return self.vel\n",
    "\n",
    "    def to_upper(self):\n",
    "        random = self.random.generate_number()\n",
    "        return get_discrete_value_according_to_probability(random, (0.5, 0.0), (True, False))\n"
   ]
  },
  {
   "cell_type": "code",
   "execution_count": 19,
   "metadata": {
    "collapsed": false,
    "jupyter": {
     "outputs_hidden": false
    }
   },
   "outputs": [],
   "source": [
    "\"\"\"representation on the dashboard of a vehicle\"\"\"\n",
    "class Vehicle:\n",
    "    def __init__(self, to_uper=False):\n",
    "        self.to_uper = to_uper\n",
    "        # self.vel = 0\n",
    "\n",
    "    @staticmethod\n",
    "    def draw_view():\n",
    "        return REPRESENTATION_OF_THE_VEHICLE\n",
    "\n",
    "    @staticmethod\n",
    "    def is_pedestrian():\n",
    "        return False"
   ]
  },
  {
   "cell_type": "code",
   "execution_count": null,
   "outputs": [],
   "source": [
    "\"\"\"representation on the dashboard of the passage of a vehicle\"\"\"\n",
    "class VehicleTransition:\n",
    "    @staticmethod\n",
    "    def draw_view():\n",
    "        return REPRESENTATION_OF_VEHICLE_PASSAGE\n",
    "\n",
    "    @staticmethod\n",
    "    def is_pedestrian():\n",
    "        return False"
   ],
   "metadata": {
    "collapsed": false
   }
  },
  {
   "cell_type": "code",
   "execution_count": 41,
   "metadata": {
    "collapsed": false,
    "jupyter": {
     "outputs_hidden": false
    }
   },
   "outputs": [],
   "source": [
    "class SimulationResults:\n",
    "    def __init__(self, n_green_pos, n_vehicle_arrival_rate, n_pedestrian_arrival_rate, n_crosswalks_width, seed_pederastian_arrivals, seed_vehicle_arrivals, pederastian_arrivals, vehicle_arrivals, seed_to_pedestrian):\n",
    "        self.parametres = {\"segundos_verde\": TRAFFIC_GREEN_LIGHT_BASE_TIME_POSSIBILITIES[n_green_pos],\n",
    "                           \"segundos_rojo\": TRAFFIC_LIGHT_TOTAL_TIME - TRAFFIC_GREEN_LIGHT_BASE_TIME_POSSIBILITIES[n_green_pos],\n",
    "                           \"tasa_de_arribos_totales_vehiculo\": n_vehicle_arrival_rate,\n",
    "                           \"tasa_de_arribos_por_carril_vehiculo\": n_vehicle_arrival_rate / NUMBER_OF_LANES,\n",
    "                           \"tasa_de_arribos_totales_peatones\": n_pedestrian_arrival_rate,\n",
    "                           \"tasa_de_arribos_por_zona_de_espera_totales_peatones\": n_pedestrian_arrival_rate / NUMBER_OF_WAITING_PEDESTRIAN,\n",
    "                           \"ancho_de_senda_peatonal\": n_crosswalks_width,\n",
    "                           \"semilla_de_arrivo_peatones\": seed_pederastian_arrivals,\n",
    "                           \"semilla_de_arrivo_vehiculos\": seed_vehicle_arrivals,\n",
    "                           \"semilla_base_de_peatones\": seed_to_pedestrian}\n",
    "        self.pederastian_arrivals = pederastian_arrivals\n",
    "        self.vehicle_arrivals = vehicle_arrivals\n",
    "        self.data_per_second = {}\n",
    "\n",
    "    def add_data_in_second(self, second, missing_pedestrians, pedestrians_waiting, vehicles_waiting, matrix, is_green):\n",
    "        self.data_per_second[second] = DataPerSecond(missing_pedestrians, pedestrians_waiting, vehicles_waiting, matrix, is_green)\n",
    "\n",
    "    \"\"\"function that the simulation generates through standard output, receives a screen update value (in seconds) that represents the time it takes to delete and rewrite the simulated data and another value that indicates how long it should animate\"\"\"\n",
    "    def view_data_per_second(self, time_between_seconds, total_time, initial_time=0):\n",
    "        for second in range(initial_time, initial_time + total_time):\n",
    "            clear_output(wait=True)\n",
    "            self.data_per_second[second].view_data(second)\n",
    "            time.sleep(time_between_seconds)\n",
    "        print(\"Animacion de la simulacion del punto 4 finalizada.\")"
   ]
  },
  {
   "cell_type": "code",
   "execution_count": 45,
   "metadata": {
    "collapsed": false,
    "jupyter": {
     "outputs_hidden": false
    }
   },
   "outputs": [],
   "source": [
    "class DataPerSecond:\n",
    "    def __init__(self, missing_pedestrians, pedestrians_waiting, vehicles_waiting, matrix, is_green):\n",
    "        self.missing_pedestrians = missing_pedestrians\n",
    "        self.pedestrians_waiting = pedestrians_waiting\n",
    "        self.vehicles_waiting = vehicles_waiting\n",
    "        self.travel_status = matrix\n",
    "        self.is_green = is_green\n",
    "        # self.second = second\n",
    "\n",
    "    def get_missing_pedestrians(self):\n",
    "        return self.missing_pedestrians\n",
    "\n",
    "    def get_vehicles_waiting(self, n_lane):\n",
    "        return self.vehicles_waiting[n_lane]\n",
    "\n",
    "    def get_pedestrians_waiting(self, rigth):\n",
    "        if rigth:\n",
    "            return self.pedestrians_waiting[1]\n",
    "        return self.pedestrians_waiting[0]\n",
    "\n",
    "    def view_data(self, second):\n",
    "        trafic_ligth = \"Semaforo peatonal en: \"\n",
    "        if self.is_green:\n",
    "            trafic_ligth += \"VERDE\"\n",
    "        else:\n",
    "            trafic_ligth += \"ROJO\"\n",
    "        border = \"|\"\n",
    "        border_sup = \"-\"\n",
    "        empty = \" \"\n",
    "        pedestrians_waiting_name = \"Peatones en espera\"\n",
    "        pedestrians_waiting_length = len(pedestrians_waiting_name)\n",
    "        # palabra + bordes por celda + largo del paso peatonal\n",
    "        # bordes por celda = largo del paso peatonal + 1\n",
    "        total_large_of_view = 2 * (pedestrians_waiting_length + CROSSWALKS_LARGE_POSSIBILITIES) + 1\n",
    "        line_border = border_sup * total_large_of_view\n",
    "        # inicia la impresion de datos\n",
    "        print(\"Animacion de la simulacion del punto 4\")\n",
    "        print(\"\")\n",
    "        print(\"Segundo actual: \" + str(second))\n",
    "        print(trafic_ligth)\n",
    "        print(line_border)\n",
    "        for n_crosswalk in range(len(self.travel_status)):\n",
    "            line = \"\"\n",
    "            match n_crosswalk:\n",
    "                # linea inicial del cruce\n",
    "                case 0:\n",
    "                    # titulo de peatones esperando a izquierda\n",
    "                    line += pedestrians_waiting_name\n",
    "                    # line += border # todo verificar si borrar\n",
    "                    # actualizacion de paso peatonal\n",
    "                    line += self._draw_cell(n_crosswalk, border)\n",
    "                    # titulo de peatones esperando a derecha\n",
    "                    # line += border # todo verificar si borrar\n",
    "                    line += pedestrians_waiting_name\n",
    "                # segunda linea del cruce\n",
    "                case 1:\n",
    "                    # cantidad de peatones esperando a izquierda\n",
    "                    left = \"Izquierda \" + str(self.pedestrians_waiting[0])\n",
    "                    diff_left = pedestrians_waiting_length - len(left)\n",
    "                    fill_left = empty * diff_left\n",
    "                    left += fill_left\n",
    "                    # cantidad de peatones esperando a derecha\n",
    "                    rigth = \"Derecha \" + str(self.pedestrians_waiting[1])\n",
    "                    diff_rigth = pedestrians_waiting_length - len(rigth)\n",
    "                    fill_rigth = empty * diff_rigth\n",
    "                    rigth = fill_rigth + rigth\n",
    "                    # agrego info de peatones esperando a izquierda\n",
    "                    line += left\n",
    "                    # line += border # todo verificar si borrar\n",
    "                    # actualizacion de paso peatonal\n",
    "                    line += self._draw_cell(n_crosswalk, border)\n",
    "                    # agrego info de peatones esperando a derecha\n",
    "                    # line += border # todo verificar si borrar\n",
    "                    line += rigth\n",
    "                case _:\n",
    "                    fill_empty = empty * pedestrians_waiting_length\n",
    "                    # agrego espaciado a izquierda\n",
    "                    line += fill_empty\n",
    "                    # line += border # todo verificar si borrar\n",
    "                    # actualizacion de paso peatonal\n",
    "                    line += self._draw_cell(n_crosswalk, border)\n",
    "                    # agrego espaciado a derecha\n",
    "                    # line += border # todo verificar si borrar\n",
    "                    line += fill_empty\n",
    "            # imprimo por salida estandar la representacion de los datos de un sendero\n",
    "            print(line)\n",
    "            # imprimo por salida estandar un borde\n",
    "            # print(line_border) # todo revisar si sacar borde\n",
    "        print(line_border) # todo revisar si sacar borde\n",
    "\n",
    "    def _draw_cell(self, n_crosswalk, border):\n",
    "        crosswalk = self.travel_status[n_crosswalk]\n",
    "        result = border\n",
    "        for cell in crosswalk:\n",
    "            result += cell.draw_view()\n",
    "            result += border\n",
    "        return result"
   ]
  },
  {
   "cell_type": "markdown",
   "metadata": {
    "collapsed": false,
    "jupyter": {
     "outputs_hidden": false
    }
   },
   "source": [
    "#### Simulacion"
   ]
  },
  {
   "cell_type": "code",
   "execution_count": 38,
   "metadata": {
    "collapsed": false,
    "jupyter": {
     "outputs_hidden": false
    },
    "pycharm": {
     "is_executing": true
    }
   },
   "outputs": [],
   "source": [
    "def generate_pederastian_arrival_rate(n, seconds, arrival_lambda):\n",
    "    arrival_lambda_per_type = arrival_lambda / NUMBER_OF_WAITING_PEDESTRIAN\n",
    "    result = {ARRIVAL_PEDESTRIAN_RIGHT: generate_arrivals(n, seconds, arrival_lambda_per_type),\n",
    "              ARRIVAL_PEDESTRIAN_LEFT: generate_arrivals(n+1, seconds, arrival_lambda_per_type)}\n",
    "    return result\n",
    "\n",
    "def generate_vehicle_arrival_rate(n, seconds, arrival_lambda):\n",
    "    result = {}\n",
    "    for lane in range(NUMBER_OF_LANES):\n",
    "        result[lane] = generate_arrivals(n + lane, seconds, arrival_lambda / NUMBER_OF_LANES)\n",
    "    return result\n",
    "\n",
    "def arrivals_to_hist(hashmap_arrivals):\n",
    "    result = {}\n",
    "    for name in hashmap_arrivals:\n",
    "        result[name] = histogram_to_list(hashmap_arrivals[name])\n",
    "    return result\n",
    "\n",
    "def add_data_in_result(simulation, simulation_results, second):\n",
    "    vehicles_waiting = simulation.get_vehicles_waiting()\n",
    "    pedestrians_waiting = simulation.get_pedestrians_waiting()\n",
    "    missing_pedestrians = simulation.get_missing_pedestrians()\n",
    "    is_green = simulation.get_light_is_green()\n",
    "    matrix = simulation.get_crossing_status()\n",
    "    simulation_results.add_data_in_second(second, missing_pedestrians, pedestrians_waiting, vehicles_waiting, matrix, is_green)\n",
    "    return\n",
    "\n",
    "def generate_data_whit_params(n_green_pos, n_vehicle_arrival_rate, n_pedestrian_arrival_rate, n_crosswalks_width, seed_pederastian_arrivals=32, seed_vehicle_arrivals=54, total_time=SECONDS_IN_HOUR, seed_to_pedestrian=SEED_BASE_TO_PEDESTRIAN):\n",
    "    if total_time < 0:\n",
    "        raise ValueError(\"Error, the total simulation time (in seconds) cannot be negative.\")\n",
    "\n",
    "    # ARRIBO VEHICULOS\n",
    "    vehicle_arrival_rate = get_vehicle_arrival_rate()[n_vehicle_arrival_rate]\n",
    "    # obtengo los arribos esta el tiempo de cada uno de los arribos (VEHICULOS)\n",
    "    vehicle_arrivals = generate_vehicle_arrival_rate(seed_vehicle_arrivals, SECONDS_IN_HOUR, vehicle_arrival_rate)\n",
    "    # agrupo los arribos en secciones de un segundo (VEHICULOS)\n",
    "    vehicle_arrivals_hist = arrivals_to_hist(vehicle_arrivals)\n",
    "\n",
    "    # ARRIBO PEATONES\n",
    "    pedestrian_arrival_rate = get_pedestrian_arrival_rate()[n_pedestrian_arrival_rate]\n",
    "    # obtengo los arribos esta el tiempo de cada uno de los arribos (PEATONES)\n",
    "    pederastian_arrivals = generate_pederastian_arrival_rate(seed_pederastian_arrivals, SECONDS_IN_HOUR, pedestrian_arrival_rate)\n",
    "    # agrupo los arribos en secciones de un segundo (PEATONES)\n",
    "    pederastian_arrivals_hist = arrivals_to_hist(pederastian_arrivals)\n",
    "\n",
    "    # seleccion del ancho de la senda peatonal\n",
    "    crosswalks_width = CROSSWALKS_WIDTH_POSSIBILITIES[n_crosswalks_width]\n",
    "\n",
    "    # aca se va almacenar toda la informacion de la simulacion\n",
    "    result = SimulationResults(n_green_pos, n_vehicle_arrival_rate, n_pedestrian_arrival_rate, n_crosswalks_width, seed_pederastian_arrivals, seed_vehicle_arrivals, pederastian_arrivals, vehicle_arrivals, seed_to_pedestrian)\n",
    "\n",
    "    # inicio de simulacion\n",
    "    simulation = Cross(crosswalks_width, pederastian_arrivals_hist, vehicle_arrivals_hist, n_green_pos, seed_to_pedestrian)\n",
    "    add_data_in_result(simulation, result, 0)\n",
    "    for actual_time in range(1, total_time):\n",
    "        simulation.tick()\n",
    "        add_data_in_result(simulation, result, actual_time)\n",
    "    return result\n",
    "\n",
    "\n"
   ]
  },
  {
   "cell_type": "code",
   "execution_count": 46,
   "metadata": {
    "collapsed": false,
    "jupyter": {
     "outputs_hidden": false
    }
   },
   "outputs": [
    {
     "name": "stdout",
     "output_type": "stream",
     "text": [
      "Animacion de la simulacion del punto 4\n",
      "\n",
      "Segundo actual: 0\n",
      "Semaforo peatonal en: ROJO\n",
      "-------------------------------------------------------------------------------------------------------------------------\n",
      "Peatones en espera| | | | | | | | | | | | | | | | | | | | | | | | | | | | | | | | | | | | | | | | | | |Peatones en espera\n",
      "Izquierda 0       | | | | | | | | | | | | | | | | | | | | | | | | | | | | | | | | | | | | | | | | | | |         Derecha 0\n",
      "                  | | | | | | | | | | | | | | | | | | | | | | | | | | | | | | | | | | | | | | | | | | |                  \n",
      "                  | | | | | | | | | | | | | | | | | | | | | | | | | | | | | | | | | | | | | | | | | | |                  \n",
      "                  | | | | | | | | | | | | | | | | | | | | | | | | | | | | | | | | | | | | | | | | | | |                  \n",
      "                  | | | | | | | | | | | | | | | | | | | | | | | | | | | | | | | | | | | | | | | | | | |                  \n",
      "                  | | | | | | | | | | | | | | | | | | | | | | | | | | | | | | | | | | | | | | | | | | |                  \n",
      "                  | | | | | | | | | | | | | | | | | | | | | | | | | | | | | | | | | | | | | | | | | | |                  \n",
      "                  | | | | | | | | | | | | | | | | | | | | | | | | | | | | | | | | | | | | | | | | | | |                  \n",
      "                  | | | | | | | | | | | | | | | | | | | | | | | | | | | | | | | | | | | | | | | | | | |                  \n",
      "-------------------------------------------------------------------------------------------------------------------------\n",
      "Animacion de la simulacion del punto 4 finalizada.\n"
     ]
    }
   ],
   "source": [
    "simulacion_1 = generate_data_whit_params(0, 0, 0, CROSSWALKS_WIDTH_POSSIBILITIES[0], total_time=1, seed_to_pedestrian=SEED_BASE_TO_PEDESTRIAN)\n",
    "simulacion_1.view_data_per_second(0.5, total_time=1)"
   ]
  }
 ],
 "metadata": {
  "kernelspec": {
   "display_name": "Python 3 (ipykernel)",
   "language": "python",
   "name": "python3"
  },
  "language_info": {
   "codemirror_mode": {
    "name": "ipython",
    "version": 3
   },
   "file_extension": ".py",
   "mimetype": "text/x-python",
   "name": "python",
   "nbconvert_exporter": "python",
   "pygments_lexer": "ipython3",
   "version": "3.10.4"
  }
 },
 "nbformat": 4,
 "nbformat_minor": 4
}
