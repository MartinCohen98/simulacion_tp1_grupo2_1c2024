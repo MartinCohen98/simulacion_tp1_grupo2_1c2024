{
 "cells": [
  {
   "cell_type": "markdown",
   "metadata": {
    "collapsed": false,
    "jupyter": {
     "outputs_hidden": false
    }
   },
   "source": [
    "# 75.26 Modelos y Simulación\n",
    "\n",
    "# Trabajo Práctico 2\n",
    "\n",
    "## Grupo 2\n",
    "\n",
    "### Alumnos:\n",
    "\n",
    "- Duzac, Emilia\n",
    "- Belletti, Gabriel Ignacio\n",
    "- Vazquez, Nicolás Alberto\n",
    "- Cohen, Martín\n",
    "-\n",
    "### Generador de números aleatorios elegido: [MIXMAX](http://arxiv.org/pdf/1403.5355)"
   ]
  },
  {
   "cell_type": "markdown",
   "metadata": {
    "collapsed": false,
    "jupyter": {
     "outputs_hidden": false
    }
   },
   "source": [
    "## Ejercicio 2\n",
    "\n",
    "### método asignado en la planilla de grupos: SIMPY"
   ]
  },
  {
   "cell_type": "markdown",
   "metadata": {
    "collapsed": false,
    "jupyter": {
     "outputs_hidden": false
    }
   },
   "source": [
    "Una entidad financiera está analizando cambiar uno de sus cajeros automáticos por uno con la funcionalidad de reciclador\n",
    "de billetes (si un cliente realiza un depósito de efectivo, ese efectivo estará disponible para que lo pueda retirar otro cliente).\n",
    "El cajero automático actual, que se quiere reemplazar, es de tipo estándar. No recicla los billetes, sino que posee dos\n",
    "compartimentos, uno con dinero para entregar y otro donde guarda el dinero que se deposita.\n",
    "Esto presenta los siguientes problemas:\n",
    "\n",
    "- Si no tiene más efectivo para entregar en el compartimento de retiro de dinero, no entrega efectivo, aunque tenga en el compartimento de depósitos.\n",
    "- Si el compartimento que recibe los depósitos se completa, no puede recibir más. La entidad conoce que con el cajero actual el 25% de los clientes se retiraba sin poder extraer dinero, y sólo acepta cambiarlo si este porcentaje disminuye.\n",
    "\n",
    "Por simplicidad suponer que el cajero sólo expende billetes de una denominación, tiene una capacidad máxima de 2000\n",
    "billetes, y comienza el día con su carga completa.\n",
    "\n",
    "En el relevamiento que realizó la entidad diferenció a sus clientes en dos grupos:\n",
    "\n",
    "- Grupo 1: Sólo retiran efectivo, y corresponden al 75% de los clientes que arriban El tiempo que utilizan el cajero se puede modelar con una distribución exponencial de media 90 segundos. Cada cliente de este grupo, extrae una cantidad de billetes que sigue una distribución uniforme $\\[3,50\\]$.\n",
    "- Grupo 2: Sólo realizan depósitos, son el 25% de los clientes totales. Utilizando el cajero un tiempo que siguen una distribución exponencial de media 5 minutos. Cada cliente de este grupo, deposita una cantidad de billetes que se puede modelar utilizando una distribución uniforme $\\[10,110\\]$.\n",
    "\n",
    "El área a cargo de modelar el problema, propuso un tiempo de arribo de clientes que sigue una distribución de\n",
    "probabilidades Exponencial con media = 180 seg\n",
    "\n",
    "### Se pide:\n",
    "\n",
    "1. Simular, utilizando el generador de números al azar desarrollado en el tp 1, 100 días completos de 24 hrs,\n",
    "independientes. (utilizando distintas semillas en el generador).\n",
    "2. Graficar la cantidad media de billetes disponibles en el cajero luego de cada transacción.\n",
    "3. Graficar la distribución de los tiempos que los clientes demoran en el sistema (espera + utilización del cajero).\n",
    "4. Calcular el tiempo medio y el desvío estandar del tiempo que los clientes demoran en el Sistema.\n",
    "5. Proponer otras frecuencias de arribos de clientes y comprar los resultados obtenidos.\n",
    "\n",
    "### Consideraciones/Suposiciones\n",
    "\n",
    "- El cajero solo admite billetes de una denominacion por lo que se hablara de cantidad de billetes en lugar del monto representado por estos."
   ]
  },
  {
   "cell_type": "markdown",
   "metadata": {
    "collapsed": false,
    "jupyter": {
     "outputs_hidden": false
    }
   },
   "source": [
    "### Imports"
   ]
  },
  {
   "cell_type": "code",
   "execution_count": 1,
   "metadata": {
    "collapsed": false,
    "jupyter": {
     "outputs_hidden": false
    }
   },
   "outputs": [],
   "source": [
    "# from IPython.display import clear_output\n",
    "# import time\n",
    "import numpy as np\n",
    "# import matplotlib.pyplot as plt\n",
    "# from collections import Counter\n",
    "# import matplotlib.animation as animation\n",
    "import simpy"
   ]
  },
  {
   "cell_type": "code",
   "execution_count": 2,
   "metadata": {
    "collapsed": false,
    "jupyter": {
     "outputs_hidden": false
    }
   },
   "outputs": [],
   "source": [
    "from MixMax import MixmaxRNG"
   ]
  },
  {
   "cell_type": "code",
   "execution_count": 4,
   "metadata": {
    "collapsed": false,
    "jupyter": {
     "outputs_hidden": false
    }
   },
   "outputs": [
    {
     "data": {
      "text/plain": [
       "0.03235471312338856"
      ]
     },
     "execution_count": 4,
     "metadata": {},
     "output_type": "execute_result"
    }
   ],
   "source": [
    "mm = MixmaxRNG(27)\n",
    "mm.generate_number()"
   ]
  },
  {
   "cell_type": "code",
   "execution_count": 11,
   "metadata": {},
   "outputs": [
    {
     "data": {
      "text/plain": [
       "0.4629994588355544"
      ]
     },
     "execution_count": 11,
     "metadata": {},
     "output_type": "execute_result"
    }
   ],
   "source": [
    "\n",
    "mm.generate_number()"
   ]
  },
  {
   "cell_type": "markdown",
   "metadata": {
    "collapsed": false,
    "jupyter": {
     "outputs_hidden": false
    }
   },
   "source": [
    "### Codigo"
   ]
  },
  {
   "cell_type": "code",
   "execution_count": null,
   "metadata": {
    "collapsed": true,
    "jupyter": {
     "outputs_hidden": true
    }
   },
   "outputs": [],
   "source": [
    "def exponencial(val_p, value_lambda):\n",
    "    return -(np.log(1 - val_p)) / value_lambda\n",
    "\n",
    "def generate_arrivals(seed, seconds, value_lambda):\n",
    "    result = []\n",
    "    total = 0.0\n",
    "    # generador de numeros aleatorios\n",
    "    random = MixmaxRNG(seed, MATRIX_SIZE, MAGIC_NUMBER, MAGIC_MODULUS)\n",
    "    while total < seconds:\n",
    "        # nuevo arribo en segundos\n",
    "        exp = exponencial(random.generate_number(), value_lambda)\n",
    "        # tiempo acumulado de arribo\n",
    "        total += exp\n",
    "        if total > seconds:\n",
    "            break\n",
    "        # se agrega el tiempo acumulado\n",
    "        result.append(total)\n",
    "    return result"
   ]
  }
 ],
 "metadata": {
  "kernelspec": {
   "display_name": "Python 3 (ipykernel)",
   "language": "python",
   "name": "python3"
  },
  "language_info": {
   "codemirror_mode": {
    "name": "ipython",
    "version": 3
   },
   "file_extension": ".py",
   "mimetype": "text/x-python",
   "name": "python",
   "nbconvert_exporter": "python",
   "pygments_lexer": "ipython3",
   "version": "3.10.4"
  }
 },
 "nbformat": 4,
 "nbformat_minor": 4
}
