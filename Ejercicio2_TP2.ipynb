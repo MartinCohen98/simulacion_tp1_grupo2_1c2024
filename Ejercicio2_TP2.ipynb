{
 "cells": [
  {
   "cell_type": "markdown",
   "metadata": {
    "collapsed": false,
    "jupyter": {
     "outputs_hidden": false
    }
   },
   "source": [
    "# 75.26 Modelos y Simulación\n",
    "\n",
    "# Trabajo Práctico 2\n",
    "\n",
    "## Grupo 2\n",
    "\n",
    "### Alumnos:\n",
    "\n",
    "- Duzac, Emilia\n",
    "- Belletti, Gabriel Ignacio\n",
    "- Vazquez, Nicolás Alberto\n",
    "- Cohen, Martín\n",
    "-\n",
    "### Generador de números aleatorios elegido: [MIXMAX](http://arxiv.org/pdf/1403.5355)"
   ]
  },
  {
   "cell_type": "markdown",
   "metadata": {
    "collapsed": false,
    "jupyter": {
     "outputs_hidden": false
    }
   },
   "source": [
    "## Ejercicio 2\n",
    "\n",
    "### método asignado en la planilla de grupos: SIMPY"
   ]
  },
  {
   "cell_type": "markdown",
   "metadata": {
    "collapsed": false,
    "jupyter": {
     "outputs_hidden": false
    }
   },
   "source": [
    "Una entidad financiera está analizando cambiar uno de sus cajeros automáticos por uno con la funcionalidad de reciclador\n",
    "de billetes (si un cliente realiza un depósito de efectivo, ese efectivo estará disponible para que lo pueda retirar otro cliente).\n",
    "El cajero automático actual, que se quiere reemplazar, es de tipo estándar. No recicla los billetes, sino que posee dos\n",
    "compartimentos, uno con dinero para entregar y otro donde guarda el dinero que se deposita.\n",
    "Esto presenta los siguientes problemas:\n",
    "\n",
    "- Si no tiene más efectivo para entregar en el compartimento de retiro de dinero, no entrega efectivo, aunque tenga en el compartimento de depósitos.\n",
    "- Si el compartimento que recibe los depósitos se completa, no puede recibir más.\n",
    "\n",
    "La entidad conoce que con el cajero actual el 25% de los clientes se retiraba sin poder extraer dinero, y sólo acepta cambiarlo si este porcentaje disminuye.\n",
    "\n",
    "Por simplicidad suponer que el cajero sólo expende billetes de una denominación, tiene una capacidad máxima de 2000\n",
    "billetes, y comienza el día con su carga completa.\n",
    "\n",
    "En el relevamiento que realizó la entidad diferenció a sus clientes en dos grupos:\n",
    "\n",
    "- Grupo 1: Sólo retiran efectivo, y corresponden al 75% de los clientes que arriban El tiempo que utilizan el cajero se puede modelar con una distribución exponencial de media 90 segundos. Cada cliente de este grupo, extrae una cantidad de billetes que sigue una distribución uniforme $[3,50]$.\n",
    "- Grupo 2: Sólo realizan depósitos, son el 25% de los clientes totales. Utilizando el cajero un tiempo que siguen una distribución exponencial de media 5 minutos ($5min = 300seg$). Cada cliente de este grupo, deposita una cantidad de billetes que se puede modelar utilizando una distribución uniforme $[10,110]$.\n",
    "\n",
    "El área a cargo de modelar el problema, propuso un tiempo de arribo de clientes que sigue una distribución de\n",
    "probabilidades Exponencial con media = 180 seg\n",
    "\n",
    "### Se pide:\n",
    "\n",
    "1. Simular, utilizando el generador de números al azar desarrollado en el tp 1, 100 días completos de 24 hrs,\n",
    "independientes. (utilizando distintas semillas en el generador).\n",
    "2. Graficar la cantidad media de billetes disponibles en el cajero luego de cada transacción.\n",
    "3. Graficar la distribución de los tiempos que los clientes demoran en el sistema (espera + utilización del cajero).\n",
    "4. Calcular el tiempo medio y el desvío estandar del tiempo que los clientes demoran en el Sistema.\n",
    "5. Proponer otras frecuencias de arribos de clientes y comprar los resultados obtenidos.\n",
    "\n",
    "### Consideraciones/Suposiciones\n",
    "\n",
    "- El cajero solo admite billetes de una denominacion por lo que se hablara de cantidad de billetes en lugar del monto representado por estos."
   ]
  },
  {
   "cell_type": "markdown",
   "metadata": {
    "collapsed": false,
    "jupyter": {
     "outputs_hidden": false
    }
   },
   "source": [
    "### Imports"
   ]
  },
  {
   "cell_type": "code",
   "execution_count": 1,
   "metadata": {
    "collapsed": false,
    "jupyter": {
     "outputs_hidden": false
    }
   },
   "outputs": [],
   "source": [
    "import numpy as np\n",
    "# import matplotlib.pyplot as plt\n",
    "import simpy"
   ]
  },
  {
   "cell_type": "code",
   "execution_count": 2,
   "metadata": {
    "collapsed": false,
    "jupyter": {
     "outputs_hidden": false
    }
   },
   "outputs": [],
   "source": [
    "from MixMax import MixmaxRNG"
   ]
  },
  {
   "cell_type": "markdown",
   "metadata": {
    "collapsed": false,
    "jupyter": {
     "outputs_hidden": false
    }
   },
   "source": [
    "### Constantes"
   ]
  },
  {
   "cell_type": "code",
   "execution_count": 3,
   "metadata": {
    "collapsed": false,
    "jupyter": {
     "outputs_hidden": false
    }
   },
   "outputs": [],
   "source": [
    "# cantidad de dias simulados\n",
    "TOTAL_SIMULATIONS = 100\n",
    "# tiempo total del dia para recarga de efectivo (cada dia se recarga el efectivo) 3600 * 24 = 86 400\n",
    "DAY_TIME = 86400.0\n",
    "# arribo de clientes 1 cliente cada 180s (de media) equivale a 1/180 clientes/s\n",
    "ARRIVAL_CLIENT = 1.0/180.0\n",
    "\n",
    "# GRUPO 1 retiro de efectivo\n",
    "# proporcion de grupo 1\n",
    "PROPORTION_GROUP_1 = 0.75\n",
    "# intervalo de valores posibles de extraccion (cantidad de billetes que se extraen)\n",
    "EXTRACTION_INTERVAL = (3, 50)\n",
    "# tiempo de uso del cajero\n",
    "TIME_LAMBDA_GROUP_1 = 1/90\n",
    "\n",
    "# GRUPO 2 ingreso de efectivo\n",
    "# intervalo de valores posibles de deposito (cantidad de billetes que se depositan)\n",
    "DEPOSIT_INTERVAL = (10, 110)\n",
    "# tiempo de uso del cajero\n",
    "TIME_LAMBDA_GROUP_2 = 1/300\n",
    "\n",
    "# capacidad maxima de billetes del cajero\n",
    "MAX_AMOUNT_OF_BILLS = 2000\n",
    "\n",
    "# semillas\n",
    "# semilla de arrivos\n",
    "SEED_ARRIVALS = 1235\n",
    "# semilla base de clientes\n",
    "SEED_CLIENT_TIPE = 785\n",
    "\n",
    "# cantidad de cajeros disponibles\n",
    "NUMBER_OF_CASHIERS = 1\n",
    "\n",
    "# proporcion de extracciones fallidas antes\n",
    "EXTRACTION_FAILURE_OLD = 0.25"
   ]
  },
  {
   "cell_type": "markdown",
   "metadata": {
    "collapsed": false,
    "jupyter": {
     "outputs_hidden": false
    }
   },
   "source": [
    "### Codigo"
   ]
  },
  {
   "cell_type": "code",
   "execution_count": 10,
   "metadata": {
    "collapsed": false,
    "jupyter": {
     "outputs_hidden": false
    },
    "pycharm": {
     "is_executing": true
    }
   },
   "outputs": [],
   "source": [
    "class DailyCustomerEvent:\n",
    "    def __init__(self):\n",
    "        self.time_delay = []\n",
    "        self.n_bills = []\n",
    "        self.n_extraction_failure = 0\n",
    "        self.extraction_attempts = 0\n",
    "\n",
    "    def extraction(self, rest, time, is_failure):\n",
    "        self.extraction_attempts += 1\n",
    "        if is_failure:\n",
    "            self.n_extraction_failure += 1\n",
    "        self.time_delay.append(time)\n",
    "        self.n_bills.append(rest)\n",
    "\n",
    "    def income(self, rest, time):\n",
    "        self.time_delay.append(time)\n",
    "        self.n_bills.append(rest)\n",
    "\n",
    "    def median_bills(self):\n",
    "        return np.median(self.n_bills)\n",
    "\n",
    "    def time_median_and_std(self):\n",
    "        median = np.median(self.time_delay)\n",
    "        std = np.std(self.time_delay)\n",
    "        return median, std\n",
    "\n",
    "    def extraction_failure_accepted(self, extration_failure_old=EXTRACTION_FAILURE_OLD):\n",
    "        extraction_failure_proportion = self.n_extraction_failure / self.extraction_attempts\n",
    "        return extration_failure_old < extraction_failure_proportion\n"
   ]
  },
  {
   "cell_type": "code",
   "execution_count": 5,
   "metadata": {},
   "outputs": [],
   "source": [
    "def exponencial(val_p, value_lambda):\n",
    "    return -(np.log(1 - val_p)) / value_lambda\n",
    "\n",
    "\"\"\"returns a list with the time of arrivals (not accumulated), up to the given maximum time.\"\"\"\n",
    "def generate_arrivals(seed, total_seconds, value_lambda):\n",
    "    result = []\n",
    "    total = 0.0\n",
    "    # generador de numeros aleatorios\n",
    "    random = MixmaxRNG(seed)\n",
    "    while True:\n",
    "        # nuevo arribo en segundos\n",
    "        exp = exponencial(random.generate_number(), value_lambda)\n",
    "        # tiempo acumulado de arribo\n",
    "        total += exp\n",
    "        # caso donde se pasa del tiempo maximo corta el bucle\n",
    "        if total > total_seconds:\n",
    "            break\n",
    "        # se agrega el tiempo entre arrivos (NO acumulado)\n",
    "        result.append(exp)\n",
    "    return result"
   ]
  },
  {
   "cell_type": "code",
   "execution_count": 6,
   "metadata": {
    "collapsed": false,
    "jupyter": {
     "outputs_hidden": false
    }
   },
   "outputs": [],
   "source": [
    "\"\"\"returns true if, according to the given value, it belongs to group 1.\"\"\"\n",
    "def is_group_1(p_val):\n",
    "    return p_val < PROPORTION_GROUP_1\n",
    "\n",
    "\"\"\"client withdrawing money.\"\"\"\n",
    "def client_group_1(env, cashier, random, res_cashier, arrival_time, statistics, debug):\n",
    "    # generan el valor de la cantidad de billetes que usaran (extraer)\n",
    "    extraction = int(round(random.generate_number(interval=EXTRACTION_INTERVAL), 0))\n",
    "    # tiempo que nesesito para realizar la operacion\n",
    "    time = exponencial(random.generate_number(), TIME_LAMBDA_GROUP_1)\n",
    "    with res_cashier.request() as req:\n",
    "        yield req\n",
    "        if debug:\n",
    "            print(f'{env.now:7.3f} s: Extraction of {extraction} begins.')\n",
    "        # caso donde hay dinero para extraer\n",
    "        permission = cashier.level >= extraction\n",
    "        if permission:\n",
    "            cashier.get(extraction)\n",
    "        # consume tiempo manteniendo el recurso para si\n",
    "        yield env.timeout(delay=time)\n",
    "        if debug:\n",
    "            print(f'{env.now:7.3f} s: Correct extraction {permission}.', )\n",
    "        statistics.extraction(cashier.level, env.now - arrival_time, permission)\n",
    "    return\n",
    "\n",
    "\"\"\"customer depositing money.\"\"\"\n",
    "def client_group_2(env, cashier, random, res_cashier, arrival_time, statistics, debug):\n",
    "    # generan el valor de la cantidad de billetes que usaran (depositar)\n",
    "    deposit = int(round(random.generate_number(interval=DEPOSIT_INTERVAL), 0))\n",
    "    # tiempo que nesesito para realizar la operacion\n",
    "    time = exponencial(random.generate_number(), TIME_LAMBDA_GROUP_2)\n",
    "    with res_cashier.request() as req:\n",
    "        yield req\n",
    "        if debug:\n",
    "            print(f'{env.now:7.3f} s: Deposit of {deposit} begins.')\n",
    "        # caso donde hay espacio para depositar dinero\n",
    "        permission = cashier.level + deposit <= MAX_AMOUNT_OF_BILLS\n",
    "        if permission:\n",
    "            cashier.put(deposit)\n",
    "        # consume tiempo manteniendo el recurso para si\n",
    "        yield env.timeout(delay=time)\n",
    "        if debug:\n",
    "            print(f'{env.now:7.3f} s: Correct deposit {permission}.')\n",
    "        statistics.income(cashier.level, env.now - arrival_time)\n",
    "    return\n",
    "\n",
    "\"\"\"\"\"\"\n",
    "def client(env, list_arrivals_of_clients, seed, cashier, res_cashier, statistics, debug):\n",
    "    random = MixmaxRNG(seed)\n",
    "    # para cada arrivo se clasifica en los dos grupos\n",
    "    if debug:\n",
    "        print(f'{env.now:7.3f} s: Clients arrivals begins.')\n",
    "    for delay in list_arrivals_of_clients:\n",
    "        # pasa un tiempo antes del evento\n",
    "        yield env.timeout(delay=delay)\n",
    "        arrival_time = env.now\n",
    "        if debug:\n",
    "            print(f'{arrival_time:7.3f} s: Arrived new client.')\n",
    "        # se toma un numero al azar (uniforme) para saber en que grupo caen\n",
    "        p_val = random.generate_number()\n",
    "        if is_group_1(p_val):\n",
    "            env.process(client_group_1(env, cashier, random, res_cashier, arrival_time, statistics, debug))\n",
    "        else:\n",
    "            env.process(client_group_2(env, cashier, random, res_cashier, arrival_time, statistics, debug))\n",
    "    if debug:\n",
    "        print(f'{env.now:7.3f} s: Clients arrivals finish.')"
   ]
  },
  {
   "cell_type": "code",
   "execution_count": 7,
   "metadata": {
    "collapsed": false,
    "jupyter": {
     "outputs_hidden": false
    }
   },
   "outputs": [],
   "source": [
    "# def daily_recharge(env, cashier, res_cashier, cashier_reload_time, debug):\n",
    "#     # bucle eterno\n",
    "#     while True:\n",
    "#         with res_cashier.request() as req:\n",
    "#             yield req\n",
    "#             diff = cashier.capacity - cashier.level\n",
    "#             if debug:\n",
    "#                 print(f'{env.now:7.3f} s: Recharge cashier, total = {cashier.level}.')\n",
    "#             if diff > 0:\n",
    "#                 cashier.put(diff)\n",
    "#                 if debug:\n",
    "#                     print(f'{env.now:7.3f} s: Recharge complete, total = {cashier.level}.')\n",
    "#             elif debug:\n",
    "#                 print(f'{env.now:7.3f} s: No recharge requiere.')\n",
    "#         yield env.timeout(cashier_reload_time)  # Chequeo"
   ]
  },
  {
   "cell_type": "code",
   "execution_count": 13,
   "metadata": {
    "collapsed": false,
    "jupyter": {
     "outputs_hidden": false
    }
   },
   "outputs": [
    {
     "name": "stdout",
     "output_type": "stream",
     "text": [
      "  0.000 s: Clients arrivals begins.\n",
      " 40.164 s: Arrived new client.\n",
      " 40.164 s: Extraction of 48 begins.\n",
      " 65.897 s: Arrived new client.\n",
      "103.944 s: Arrived new client.\n",
      "123.355 s: Correct extraction True.\n",
      "123.355 s: Extraction of 28 begins.\n",
      "175.393 s: Arrived new client.\n",
      "192.105 s: Correct extraction True.\n",
      "192.105 s: Extraction of 7 begins.\n",
      "220.546 s: Correct extraction True.\n",
      "220.546 s: Extraction of 8 begins.\n",
      "303.350 s: Arrived new client.\n",
      "307.565 s: Arrived new client.\n",
      "349.824 s: Arrived new client.\n",
      "382.132 s: Arrived new client.\n",
      "411.433 s: Correct extraction True.\n",
      "411.433 s: Extraction of 46 begins.\n",
      "427.199 s: Arrived new client.\n",
      "495.180 s: Arrived new client.\n",
      "499.079 s: Arrived new client.\n",
      "499.079 s: Clients arrivals finish.\n",
      "Median n bills:  1920.5 Median;std of time:  (121.40492082637331, 57.418650120008756) Failure extraction < 0.25:  True\n"
     ]
    }
   ],
   "source": [
    "def daily_simulation(seed_arrivals=SEED_ARRIVALS, seed_clients=SEED_CLIENT_TIPE, arrival_client=ARRIVAL_CLIENT, total_time=DAY_TIME, debug=False):\n",
    "    # estadisticas de la simulacion\n",
    "    statistics = DailyCustomerEvent()\n",
    "    # creacion del entorno simpy\n",
    "    env = simpy.Environment()\n",
    "    # creacion de recurso de cajero (contiene billetes) (inicia con la maxima cantidad de billetes)\n",
    "    cashier = simpy.Container(env, MAX_AMOUNT_OF_BILLS, init=MAX_AMOUNT_OF_BILLS)\n",
    "    # cantidad de recurso cajero disponible\n",
    "    res_cashier = simpy.Resource(env, NUMBER_OF_CASHIERS)\n",
    "    # llegada de clientes\n",
    "    arrivals_of_clients = generate_arrivals(seed_arrivals, total_time, arrival_client)\n",
    "    # procesado de clientes\n",
    "    proc = env.process(client(env, arrivals_of_clients, seed_clients, cashier, res_cashier, statistics, debug))\n",
    "    env.run(until=proc)\n",
    "    return statistics\n",
    "\n",
    "stats = daily_simulation(total_time=600.0, debug=True, arrival_client=1/60)\n",
    "print(\"Median n bills: \", stats.median_bills(), \"Median;std of time: \", stats.time_median_and_std(), \"Failure extraction < 0.25: \", stats.extraction_failure_accepted())"
   ]
  },
  {
   "cell_type": "code",
   "execution_count": 9,
   "metadata": {
    "collapsed": false,
    "jupyter": {
     "outputs_hidden": false
    }
   },
   "outputs": [],
   "source": [
    "def simulaction():\n",
    "    return"
   ]
  }
 ],
 "metadata": {
  "kernelspec": {
   "display_name": "Python 3 (ipykernel)",
   "language": "python",
   "name": "python3"
  },
  "language_info": {
   "codemirror_mode": {
    "name": "ipython",
    "version": 3
   },
   "file_extension": ".py",
   "mimetype": "text/x-python",
   "name": "python",
   "nbconvert_exporter": "python",
   "pygments_lexer": "ipython3",
   "version": "3.10.4"
  }
 },
 "nbformat": 4,
 "nbformat_minor": 4
}
